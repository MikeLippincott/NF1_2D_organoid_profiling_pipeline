{
    "cells": [
        {
            "cell_type": "markdown",
            "metadata": {},
            "source": [
                "# Perform analysis (segmentation and feature extraction) and save features as an SQLite database"
            ]
        },
        {
            "cell_type": "markdown",
            "metadata": {},
            "source": [
                "## Import libraries"
            ]
        },
        {
            "cell_type": "code",
            "execution_count": 1,
            "metadata": {},
            "outputs": [],
            "source": [
                "import argparse\n",
                "import pathlib\n",
                "import pprint\n",
                "import sys\n",
                "\n",
                "sys.path.append(\"../../utils\")\n",
                "import cp_parallel\n",
                "\n",
                "# check if in a jupyter notebook\n",
                "try:\n",
                "    cfg = get_ipython().config\n",
                "    in_notebook = True\n",
                "except NameError:\n",
                "    in_notebook = False"
            ]
        },
        {
            "cell_type": "code",
            "execution_count": 2,
            "metadata": {},
            "outputs": [
                {
                    "name": "stdout",
                    "output_type": "stream",
                    "text": [
                        "Running in a notebook\n"
                    ]
                }
            ],
            "source": [
                "if not in_notebook:\n",
                "    print(\"Running as script\")\n",
                "    # set up arg parser\n",
                "    parser = argparse.ArgumentParser(description=\"Segment the nuclei of a tiff image\")\n",
                "\n",
                "    parser.add_argument(\n",
                "        \"--patient\",\n",
                "        type=str,\n",
                "        help=\"Patient ID\",\n",
                "    )\n",
                "\n",
                "    parser.add_argument(\n",
                "        \"--well_fov\",\n",
                "        type=str,\n",
                "        help=\"Path to the input directory containing the tiff images\",\n",
                "    )\n",
                "\n",
                "    args = parser.parse_args()\n",
                "    well_fov = args.well_fov\n",
                "    patient = args.patient\n",
                "else:\n",
                "    print(\"Running in a notebook\")\n",
                "    well_fov = \"C2-1\"\n",
                "    patient = \"NF0014\"\n",
                "\n",
                "middle_slice_input = pathlib.Path(\n",
                "    # f\"../../data/{patient}/zstack_images/{well_fov}\").resolve(\n",
                "    f\"../../data/{patient}/middle_slice_illum_correction/{well_fov}\"\n",
                ").resolve(strict=True)\n",
                "max_projected_input = pathlib.Path(\n",
                "    f\"../../data/{patient}/zmax_proj_illum_correction/{well_fov}\"\n",
                ").resolve(strict=True)"
            ]
        },
        {
            "cell_type": "markdown",
            "metadata": {},
            "source": [
                "## Set paths and variables"
            ]
        },
        {
            "cell_type": "code",
            "execution_count": null,
            "metadata": {},
            "outputs": [
                {
                    "name": "stdout",
                    "output_type": "stream",
                    "text": [
                        "C2-1\n"
                    ]
                }
            ],
            "source": [
                "# set the run type for the parallelization\n",
                "run_name = \"analysis\"\n",
                "\n",
                "# set path for CellProfiler pipeline\n",
                "path_to_pipeline = pathlib.Path(\"../pipelines/analysis.cppipe\").resolve(strict=True)\n",
                "\n",
                "# set path to plugins directory for the CLI to reference (will need to update locally if reproducing)\n",
                "plugins_directory = (\n",
                "    pathlib.Path(\"/home/lippincm/CellProfiler-plugins/active_plugins\")\n",
                "    .absolute()\n",
                "    .resolve(strict=True)\n",
                ")\n",
                "\n",
                "# Get the plate name from the folder name\n",
                "plate_name = well_fov  # Get the folder name as the plate name"
            ]
        },
        {
            "cell_type": "markdown",
            "metadata": {},
            "source": [
                "## Create dictionary to process data"
            ]
        },
        {
            "cell_type": "code",
            "execution_count": 4,
            "metadata": {},
            "outputs": [
                {
                    "name": "stdout",
                    "output_type": "stream",
                    "text": [
                        "{   'C2-1_middle_slice_illum_correction': {   'path_to_images': PosixPath('/home/lippincm/4TB_A/NF1_2D_organoid_profiling_pipeline/data/NF0014/middle_slice_illum_correction/C2-1'),\n",
                        "                                              'path_to_output': PosixPath('/home/lippincm/4TB_A/NF1_2D_organoid_profiling_pipeline/data/NF0014/cellprofiler_middle_slice_output/C2-1'),\n",
                        "                                              'path_to_pipeline': PosixPath('/home/lippincm/4TB_A/NF1_2D_organoid_profiling_pipeline/3.feature_extraction/pipelines/analysis.cppipe'),\n",
                        "                                              'plugins_directory': PosixPath('/home/lippincm/CellProfiler-plugins/active_plugins')},\n",
                        "    'C2-1_zmax_proj_illum_correction': {   'path_to_images': PosixPath('/home/lippincm/4TB_A/NF1_2D_organoid_profiling_pipeline/data/NF0014/zmax_proj_illum_correction/C2-1'),\n",
                        "                                           'path_to_output': PosixPath('/home/lippincm/4TB_A/NF1_2D_organoid_profiling_pipeline/data/NF0014/cellprofiler_zmax_proj_output/C2-1'),\n",
                        "                                           'path_to_pipeline': PosixPath('/home/lippincm/4TB_A/NF1_2D_organoid_profiling_pipeline/3.feature_extraction/pipelines/analysis.cppipe'),\n",
                        "                                           'plugins_directory': PosixPath('/home/lippincm/CellProfiler-plugins/active_plugins')}}\n"
                    ]
                }
            ],
            "source": [
                "plate_info_dictionary = {}\n",
                "# create plate info dictionary with all parts of the CellProfiler CLI command to run in parallel\n",
                "for images_dir in [middle_slice_input, max_projected_input]:\n",
                "    plate_info_dictionary[f\"{plate_name}_{str(images_dir.parent.name)}\"] = {\n",
                "        \"path_to_images\": images_dir,\n",
                "        \"path_to_output\": pathlib.Path(\n",
                "            f\"../../data/{patient}/cellprofiler_{str(images_dir.parent.name.split('_illum_correction')[0])}_output/{well_fov}/\"\n",
                "        ).resolve(),\n",
                "        \"path_to_pipeline\": path_to_pipeline,\n",
                "        \"plugins_directory\": plugins_directory,\n",
                "    }\n",
                "\n",
                "# view the dictionary to assess that all info is added correctly\n",
                "pprint.pprint(plate_info_dictionary, indent=4)"
            ]
        },
        {
            "cell_type": "markdown",
            "metadata": {},
            "source": [
                "## Perform CellProfiler analysis on data\n",
                "\n",
                "The function being called is called \"run_cellprofiler_parallel\" but can be used if there is only one plate to run. We can also split the data by well and process that way in parallel, but we choose to process at all at once for now.\n",
                "\n",
                "Note: This code cell was not ran as we prefer to perform CellProfiler processing tasks via `sh` file (bash script) which is more stable."
            ]
        },
        {
            "cell_type": "code",
            "execution_count": 5,
            "metadata": {},
            "outputs": [
                {
                    "ename": "KeyboardInterrupt",
                    "evalue": "",
                    "output_type": "error",
                    "traceback": [
                        "\u001b[0;31m---------------------------------------------------------------------------\u001b[0m",
                        "\u001b[0;31mKeyboardInterrupt\u001b[0m                         Traceback (most recent call last)",
                        "Cell \u001b[0;32mIn[5], line 1\u001b[0m\n\u001b[0;32m----> 1\u001b[0m \u001b[43mcp_parallel\u001b[49m\u001b[38;5;241;43m.\u001b[39;49m\u001b[43mrun_cellprofiler_parallel\u001b[49m\u001b[43m(\u001b[49m\n\u001b[1;32m      2\u001b[0m \u001b[43m    \u001b[49m\u001b[43mplate_info_dictionary\u001b[49m\u001b[38;5;241;43m=\u001b[39;49m\u001b[43mplate_info_dictionary\u001b[49m\u001b[43m,\u001b[49m\u001b[43m \u001b[49m\u001b[43mrun_name\u001b[49m\u001b[38;5;241;43m=\u001b[39;49m\u001b[43mrun_name\u001b[49m\n\u001b[1;32m      3\u001b[0m \u001b[43m)\u001b[49m\n",
                        "File \u001b[0;32m~/4TB_A/NF1_2D_organoid_profiling_pipeline/3.feature_extraction/notebooks/../../utils/cp_parallel.py:136\u001b[0m, in \u001b[0;36mrun_cellprofiler_parallel\u001b[0;34m(plate_info_dictionary, run_name)\u001b[0m\n\u001b[1;32m    126\u001b[0m futures: List[Future] \u001b[38;5;241m=\u001b[39m [\n\u001b[1;32m    127\u001b[0m     executor\u001b[38;5;241m.\u001b[39msubmit(\n\u001b[1;32m    128\u001b[0m         subprocess\u001b[38;5;241m.\u001b[39mrun,\n\u001b[0;32m   (...)\u001b[0m\n\u001b[1;32m    132\u001b[0m     \u001b[38;5;28;01mfor\u001b[39;00m command \u001b[38;5;129;01min\u001b[39;00m commands\n\u001b[1;32m    133\u001b[0m ]\n\u001b[1;32m    135\u001b[0m \u001b[38;5;66;03m# the list of CompletedProcesses holds all the information from the CellProfiler run\u001b[39;00m\n\u001b[0;32m--> 136\u001b[0m results: List[subprocess\u001b[38;5;241m.\u001b[39mCompletedProcess] \u001b[38;5;241m=\u001b[39m [future\u001b[38;5;241m.\u001b[39mresult() \u001b[38;5;28;01mfor\u001b[39;00m future \u001b[38;5;129;01min\u001b[39;00m futures]\n\u001b[1;32m    138\u001b[0m \u001b[38;5;28mprint\u001b[39m(\u001b[38;5;124m\"\u001b[39m\u001b[38;5;124mAll processes have been completed!\u001b[39m\u001b[38;5;124m\"\u001b[39m)\n\u001b[1;32m    140\u001b[0m \u001b[38;5;66;03m# for each process, confirm that the process completed successfully and return a log file\u001b[39;00m\n",
                        "File \u001b[0;32m~/4TB_A/NF1_2D_organoid_profiling_pipeline/3.feature_extraction/notebooks/../../utils/cp_parallel.py:136\u001b[0m, in \u001b[0;36m<listcomp>\u001b[0;34m(.0)\u001b[0m\n\u001b[1;32m    126\u001b[0m futures: List[Future] \u001b[38;5;241m=\u001b[39m [\n\u001b[1;32m    127\u001b[0m     executor\u001b[38;5;241m.\u001b[39msubmit(\n\u001b[1;32m    128\u001b[0m         subprocess\u001b[38;5;241m.\u001b[39mrun,\n\u001b[0;32m   (...)\u001b[0m\n\u001b[1;32m    132\u001b[0m     \u001b[38;5;28;01mfor\u001b[39;00m command \u001b[38;5;129;01min\u001b[39;00m commands\n\u001b[1;32m    133\u001b[0m ]\n\u001b[1;32m    135\u001b[0m \u001b[38;5;66;03m# the list of CompletedProcesses holds all the information from the CellProfiler run\u001b[39;00m\n\u001b[0;32m--> 136\u001b[0m results: List[subprocess\u001b[38;5;241m.\u001b[39mCompletedProcess] \u001b[38;5;241m=\u001b[39m [\u001b[43mfuture\u001b[49m\u001b[38;5;241;43m.\u001b[39;49m\u001b[43mresult\u001b[49m\u001b[43m(\u001b[49m\u001b[43m)\u001b[49m \u001b[38;5;28;01mfor\u001b[39;00m future \u001b[38;5;129;01min\u001b[39;00m futures]\n\u001b[1;32m    138\u001b[0m \u001b[38;5;28mprint\u001b[39m(\u001b[38;5;124m\"\u001b[39m\u001b[38;5;124mAll processes have been completed!\u001b[39m\u001b[38;5;124m\"\u001b[39m)\n\u001b[1;32m    140\u001b[0m \u001b[38;5;66;03m# for each process, confirm that the process completed successfully and return a log file\u001b[39;00m\n",
                        "File \u001b[0;32m~/miniforge3/envs/gff_cp_env/lib/python3.9/concurrent/futures/_base.py:441\u001b[0m, in \u001b[0;36mFuture.result\u001b[0;34m(self, timeout)\u001b[0m\n\u001b[1;32m    438\u001b[0m \u001b[38;5;28;01melif\u001b[39;00m \u001b[38;5;28mself\u001b[39m\u001b[38;5;241m.\u001b[39m_state \u001b[38;5;241m==\u001b[39m FINISHED:\n\u001b[1;32m    439\u001b[0m     \u001b[38;5;28;01mreturn\u001b[39;00m \u001b[38;5;28mself\u001b[39m\u001b[38;5;241m.\u001b[39m__get_result()\n\u001b[0;32m--> 441\u001b[0m \u001b[38;5;28;43mself\u001b[39;49m\u001b[38;5;241;43m.\u001b[39;49m\u001b[43m_condition\u001b[49m\u001b[38;5;241;43m.\u001b[39;49m\u001b[43mwait\u001b[49m\u001b[43m(\u001b[49m\u001b[43mtimeout\u001b[49m\u001b[43m)\u001b[49m\n\u001b[1;32m    443\u001b[0m \u001b[38;5;28;01mif\u001b[39;00m \u001b[38;5;28mself\u001b[39m\u001b[38;5;241m.\u001b[39m_state \u001b[38;5;129;01min\u001b[39;00m [CANCELLED, CANCELLED_AND_NOTIFIED]:\n\u001b[1;32m    444\u001b[0m     \u001b[38;5;28;01mraise\u001b[39;00m CancelledError()\n",
                        "File \u001b[0;32m~/miniforge3/envs/gff_cp_env/lib/python3.9/threading.py:312\u001b[0m, in \u001b[0;36mCondition.wait\u001b[0;34m(self, timeout)\u001b[0m\n\u001b[1;32m    310\u001b[0m \u001b[38;5;28;01mtry\u001b[39;00m:    \u001b[38;5;66;03m# restore state no matter what (e.g., KeyboardInterrupt)\u001b[39;00m\n\u001b[1;32m    311\u001b[0m     \u001b[38;5;28;01mif\u001b[39;00m timeout \u001b[38;5;129;01mis\u001b[39;00m \u001b[38;5;28;01mNone\u001b[39;00m:\n\u001b[0;32m--> 312\u001b[0m         \u001b[43mwaiter\u001b[49m\u001b[38;5;241;43m.\u001b[39;49m\u001b[43macquire\u001b[49m\u001b[43m(\u001b[49m\u001b[43m)\u001b[49m\n\u001b[1;32m    313\u001b[0m         gotit \u001b[38;5;241m=\u001b[39m \u001b[38;5;28;01mTrue\u001b[39;00m\n\u001b[1;32m    314\u001b[0m     \u001b[38;5;28;01melse\u001b[39;00m:\n",
                        "\u001b[0;31mKeyboardInterrupt\u001b[0m: "
                    ]
                }
            ],
            "source": [
                "cp_parallel.run_cellprofiler_parallel(\n",
                "    plate_info_dictionary=plate_info_dictionary, run_name=run_name\n",
                ")"
            ]
        }
    ],
    "metadata": {
        "kernelspec": {
            "display_name": "gff_cp_env",
            "language": "python",
            "name": "python3"
        },
        "language_info": {
            "codemirror_mode": {
                "name": "ipython",
                "version": 3
            },
            "file_extension": ".py",
            "mimetype": "text/x-python",
            "name": "python",
            "nbconvert_exporter": "python",
            "pygments_lexer": "ipython3",
            "version": "3.9.23"
        },
        "orig_nbformat": 4
    },
    "nbformat": 4,
    "nbformat_minor": 2
}
