{
    "cells": [
        {
            "cell_type": "markdown",
            "metadata": {},
            "source": [
                "# Perform analysis (segmentation and feature extraction) and save features as an SQLite database"
            ]
        },
        {
            "cell_type": "markdown",
            "metadata": {},
            "source": [
                "## Import libraries"
            ]
        },
        {
            "cell_type": "code",
            "execution_count": 1,
            "metadata": {},
            "outputs": [],
            "source": [
                "import argparse\n",
                "import pathlib\n",
                "import pprint\n",
                "import sys\n",
                "\n",
                "sys.path.append(\"../../utils\")\n",
                "import cp_parallel\n",
                "\n",
                "# check if in a jupyter notebook\n",
                "try:\n",
                "    cfg = get_ipython().config\n",
                "    in_notebook = True\n",
                "except NameError:\n",
                "    in_notebook = False"
            ]
        },
        {
            "cell_type": "code",
            "execution_count": 2,
            "metadata": {},
            "outputs": [
                {
                    "name": "stdout",
                    "output_type": "stream",
                    "text": [
                        "Running in a notebook\n"
                    ]
                }
            ],
            "source": [
                "if not in_notebook:\n",
                "    print(\"Running as script\")\n",
                "    # set up arg parser\n",
                "    parser = argparse.ArgumentParser(description=\"Segment the nuclei of a tiff image\")\n",
                "\n",
                "    parser.add_argument(\n",
                "        \"--patient\",\n",
                "        type=str,\n",
                "        help=\"Patient ID\",\n",
                "    )\n",
                "\n",
                "    parser.add_argument(\n",
                "        \"--well_fov\",\n",
                "        type=str,\n",
                "        help=\"Path to the input directory containing the tiff images\",\n",
                "    )\n",
                "\n",
                "    args = parser.parse_args()\n",
                "    well_fov = args.well_fov\n",
                "    patient = args.patient\n",
                "else:\n",
                "    print(\"Running in a notebook\")\n",
                "    well_fov = \"C2-1\"\n",
                "    patient = \"NF0014\"\n",
                "\n",
                "middle_slice_input = pathlib.Path(\n",
                "    f\"../../data/{patient}/middle_slice_illum_correction/{well_fov}\"\n",
                ").resolve(strict=True)\n",
                "max_projected_input = pathlib.Path(\n",
                "    f\"../../data/{patient}/zmax_proj_illum_correction/{well_fov}\"\n",
                ").resolve(strict=True)"
            ]
        },
        {
            "cell_type": "markdown",
            "metadata": {},
            "source": [
                "## Set paths and variables"
            ]
        },
        {
            "cell_type": "code",
            "execution_count": 3,
            "metadata": {},
            "outputs": [],
            "source": [
                "# set the run type for the parallelization\n",
                "run_name = \"analysis\"\n",
                "\n",
                "# set path for CellProfiler pipeline\n",
                "path_to_pipeline = pathlib.Path(\"../pipelines/analysis.cppipe\").resolve(strict=True)\n",
                "\n",
                "# Get the plate name from the folder name\n",
                "plate_name = well_fov  # Get the folder name as the plate name"
            ]
        },
        {
            "cell_type": "markdown",
            "metadata": {},
            "source": [
                "## Create dictionary to process data"
            ]
        },
        {
            "cell_type": "code",
            "execution_count": 4,
            "metadata": {},
            "outputs": [
                {
                    "name": "stdout",
                    "output_type": "stream",
                    "text": [
                        "{   'C2-1_middle_slice_illum_correction': {   'path_to_images': PosixPath('/home/lippincm/4TB_A/NF1_2D_organoid_profiling_pipeline/data/NF0014/middle_slice_illum_correction/C2-1'),\n",
                        "                                              'path_to_output': PosixPath('/home/lippincm/4TB_A/NF1_2D_organoid_profiling_pipeline/data/NF0014/cellprofiler_middle_slice_output/C2-1'),\n",
                        "                                              'path_to_pipeline': PosixPath('/home/lippincm/4TB_A/NF1_2D_organoid_profiling_pipeline/3.feature_extraction/pipelines/analysis.cppipe')},\n",
                        "    'C2-1_zmax_proj_illum_correction': {   'path_to_images': PosixPath('/home/lippincm/4TB_A/NF1_2D_organoid_profiling_pipeline/data/NF0014/zmax_proj_illum_correction/C2-1'),\n",
                        "                                           'path_to_output': PosixPath('/home/lippincm/4TB_A/NF1_2D_organoid_profiling_pipeline/data/NF0014/cellprofiler_zmax_proj_output/C2-1'),\n",
                        "                                           'path_to_pipeline': PosixPath('/home/lippincm/4TB_A/NF1_2D_organoid_profiling_pipeline/3.feature_extraction/pipelines/analysis.cppipe')}}\n"
                    ]
                }
            ],
            "source": [
                "plate_info_dictionary = {}\n",
                "# create plate info dictionary with all parts of the CellProfiler CLI command to run in parallel\n",
                "for images_dir in [middle_slice_input, max_projected_input]:\n",
                "    plate_info_dictionary[f\"{plate_name}_{str(images_dir.parent.name)}\"] = {\n",
                "        \"path_to_images\": images_dir,\n",
                "        \"path_to_output\": pathlib.Path(\n",
                "            f\"../../data/{patient}/cellprofiler_{str(images_dir.parent.name.split('_illum_correction')[0])}_output/{well_fov}/\"\n",
                "        ).resolve(),\n",
                "        \"path_to_pipeline\": path_to_pipeline,\n",
                "    }\n",
                "\n",
                "# view the dictionary to assess that all info is added correctly\n",
                "pprint.pprint(plate_info_dictionary, indent=4)"
            ]
        },
        {
            "cell_type": "markdown",
            "metadata": {},
            "source": [
                "## Perform CellProfiler analysis on data\n",
                "\n",
                "The function being called is called \"run_cellprofiler_parallel\" but can be used if there is only one plate to run. We can also split the data by well and process that way in parallel, but we choose to process at all at once for now.\n",
                "\n",
                "Note: This code cell was not ran as we prefer to perform CellProfiler processing tasks via `sh` file (bash script) which is more stable."
            ]
        },
        {
            "cell_type": "code",
            "execution_count": 5,
            "metadata": {},
            "outputs": [
                {
                    "name": "stdout",
                    "output_type": "stream",
                    "text": [
                        "All processes have been completed!\n",
                        "All results have been converted to log files!\n"
                    ]
                }
            ],
            "source": [
                "cp_parallel.run_cellprofiler_parallel(\n",
                "    plate_info_dictionary=plate_info_dictionary, run_name=run_name\n",
                ")"
            ]
        }
    ],
    "metadata": {
        "kernelspec": {
            "display_name": "gff_cp_env",
            "language": "python",
            "name": "python3"
        },
        "language_info": {
            "codemirror_mode": {
                "name": "ipython",
                "version": 3
            },
            "file_extension": ".py",
            "mimetype": "text/x-python",
            "name": "python",
            "nbconvert_exporter": "python",
            "pygments_lexer": "ipython3",
            "version": "3.9.23"
        },
        "orig_nbformat": 4
    },
    "nbformat": 4,
    "nbformat_minor": 2
}
