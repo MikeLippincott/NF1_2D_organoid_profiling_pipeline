{
    "cells": [
        {
            "cell_type": "code",
            "execution_count": 1,
            "metadata": {},
            "outputs": [],
            "source": [
                "import pathlib\n",
                "\n",
                "import tifffile\n",
                "import tqdm"
            ]
        },
        {
            "cell_type": "code",
            "execution_count": 2,
            "metadata": {},
            "outputs": [],
            "source": [
                "# input images directory\n",
                "images_dir = pathlib.Path(\"../../data/NF0014/zstack_images/\").resolve(strict=True)\n",
                "# output images directory\n",
                "output_dir = pathlib.Path(\"../../data/NF0014/middle_slice/\").resolve()"
            ]
        },
        {
            "cell_type": "code",
            "execution_count": 3,
            "metadata": {},
            "outputs": [
                {
                    "name": "stderr",
                    "output_type": "stream",
                    "text": [
                        "100%|\u2588\u2588\u2588\u2588\u2588\u2588\u2588\u2588\u2588\u2588| 520/520 [01:24<00:00,  6.19it/s]\n"
                    ]
                }
            ],
            "source": [
                "# get a list of all of the tiff files in the directory\n",
                "tiff_files = list(images_dir.rglob(\"*.tif\"))\n",
                "tiff_files.sort()\n",
                "for tiff_file in tqdm.tqdm(tiff_files):\n",
                "    # load the first tiff file to get the metadata\n",
                "    image = tifffile.TiffFile(tiff_file)\n",
                "    number_of_slices = image.series[0].shape[0]\n",
                "    # get the middle most slice\n",
                "    middle_slice_index = number_of_slices // 2\n",
                "    # get the middle slice\n",
                "    middle_slice = image.series[0].asarray()[middle_slice_index, :, :]\n",
                "    # save the middle slice as a new tiff file\n",
                "    output_file_dir = output_dir / str(tiff_file.parent).split(\"/\")[-1] / tiff_file.name\n",
                "    output_file_dir.parent.mkdir(parents=True, exist_ok=True)\n",
                "    tifffile.imwrite(output_file_dir, middle_slice)"
            ]
        }
    ],
    "metadata": {
        "kernelspec": {
            "display_name": "gff_preprocessing_env",
            "language": "python",
            "name": "python3"
        },
        "language_info": {
            "codemirror_mode": {
                "name": "ipython",
                "version": 3
            },
            "file_extension": ".py",
            "mimetype": "text/x-python",
            "name": "python",
            "nbconvert_exporter": "python",
            "pygments_lexer": "ipython3",
            "version": "3.10.15"
        }
    },
    "nbformat": 4,
    "nbformat_minor": 2
}
