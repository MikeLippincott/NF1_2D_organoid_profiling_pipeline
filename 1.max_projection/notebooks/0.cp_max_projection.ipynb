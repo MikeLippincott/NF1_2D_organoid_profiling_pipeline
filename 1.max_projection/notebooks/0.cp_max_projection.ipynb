{
    "cells": [
        {
            "cell_type": "markdown",
            "metadata": {},
            "source": [
                "# Perform maximum projection and save the images"
            ]
        },
        {
            "cell_type": "markdown",
            "metadata": {},
            "source": [
                "## Import libraries"
            ]
        },
        {
            "cell_type": "code",
            "execution_count": 1,
            "metadata": {},
            "outputs": [],
            "source": [
                "import pathlib\n",
                "\n",
                "import tifffile\n",
                "import tqdm"
            ]
        },
        {
            "cell_type": "code",
            "execution_count": 2,
            "metadata": {},
            "outputs": [],
            "source": [
                "# input images directory\n",
                "images_dir = pathlib.Path(\"../../data/NF0014/zstack_images/\").resolve(strict=True)\n",
                "# output images directory\n",
                "output_dir = pathlib.Path(\"../../data/NF0014/zmax_proj/\").resolve()"
            ]
        },
        {
            "cell_type": "code",
            "execution_count": 3,
            "metadata": {},
            "outputs": [
                {
                    "name": "stderr",
                    "output_type": "stream",
                    "text": [
                        "  0%|          | 0/520 [00:00<?, ?it/s]"
                    ]
                },
                {
                    "name": "stderr",
                    "output_type": "stream",
                    "text": [
                        "100%|\u2588\u2588\u2588\u2588\u2588\u2588\u2588\u2588\u2588\u2588| 520/520 [00:44<00:00, 11.60it/s]\n"
                    ]
                }
            ],
            "source": [
                "# get a list of all of the tiff files in the directory\n",
                "tiff_files = list(images_dir.rglob(\"*.tif\"))\n",
                "tiff_files.sort()\n",
                "for tiff_file in tqdm.tqdm(tiff_files):\n",
                "    # load the first tiff file to get the metadata\n",
                "    image = tifffile.TiffFile(tiff_file)\n",
                "    # z max projection\n",
                "    max_proj = image.asarray().max(axis=0)\n",
                "    # save the middle slice as a new tiff file\n",
                "    output_file_dir = output_dir / str(tiff_file.parent).split(\"/\")[-1] / tiff_file.name\n",
                "    output_file_dir.parent.mkdir(parents=True, exist_ok=True)\n",
                "    tifffile.imwrite(output_file_dir, max_proj)"
            ]
        }
    ],
    "metadata": {
        "kernelspec": {
            "display_name": "cellprofiler_timelapse_env",
            "language": "python",
            "name": "python3"
        },
        "language_info": {
            "codemirror_mode": {
                "name": "ipython",
                "version": 3
            },
            "file_extension": ".py",
            "mimetype": "text/x-python",
            "name": "python",
            "nbconvert_exporter": "python",
            "pygments_lexer": "ipython3",
            "version": "3.8.20"
        },
        "orig_nbformat": 4
    },
    "nbformat": 4,
    "nbformat_minor": 2
}
