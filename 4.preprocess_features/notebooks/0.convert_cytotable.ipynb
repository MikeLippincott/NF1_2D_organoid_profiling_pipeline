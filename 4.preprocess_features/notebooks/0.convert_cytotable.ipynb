{
    "cells": [
        {
            "cell_type": "markdown",
            "metadata": {},
            "source": [
                "# Convert SQLite output(s) to parquet files with CytoTable"
            ]
        },
        {
            "cell_type": "markdown",
            "metadata": {},
            "source": [
                "## Import libraries"
            ]
        },
        {
            "cell_type": "code",
            "execution_count": 1,
            "metadata": {},
            "outputs": [],
            "source": [
                "import argparse\n",
                "import logging\n",
                "import pathlib\n",
                "import uuid\n",
                "\n",
                "import duckdb\n",
                "import pandas as pd\n",
                "import tqdm\n",
                "\n",
                "# cytotable will merge objects from SQLite file into single cells and save as parquet file\n",
                "from cytotable import convert, presets\n",
                "from parsl.config import Config\n",
                "from parsl.executors import HighThroughputExecutor\n",
                "\n",
                "# Set the logging level to a higher level to avoid outputting unnecessary errors from config file in convert function\n",
                "logging.getLogger().setLevel(logging.ERROR)\n",
                "try:\n",
                "    cfg = get_ipython().config\n",
                "    in_notebook = True\n",
                "except NameError:\n",
                "    in_notebook = False"
            ]
        },
        {
            "cell_type": "code",
            "execution_count": 2,
            "metadata": {},
            "outputs": [
                {
                    "name": "stdout",
                    "output_type": "stream",
                    "text": [
                        "Running in a notebook\n"
                    ]
                }
            ],
            "source": [
                "if not in_notebook:\n",
                "    print(\"Running as script\")\n",
                "    # set up arg parser\n",
                "    parser = argparse.ArgumentParser(description=\"Segment the nuclei of a tiff image\")\n",
                "\n",
                "    parser.add_argument(\n",
                "        \"--patient\",\n",
                "        type=str,\n",
                "        help=\"Patient ID\",\n",
                "    )\n",
                "\n",
                "    args = parser.parse_args()\n",
                "    patient = args.patient\n",
                "else:\n",
                "    print(\"Running in a notebook\")\n",
                "    patient = \"NF0021\"\n",
                "\n",
                "middle_slice_input = pathlib.Path(\n",
                "    f\"../../data/{patient}/cellprofiler_middle_slice_output/\"\n",
                ").resolve(strict=True)\n",
                "max_projected_input = pathlib.Path(\n",
                "    f\"../../data/{patient}/cellprofiler_zmax_proj_output/\"\n",
                ").resolve(strict=True)\n",
                "\n",
                "# directory for processed data\n",
                "output_dir = pathlib.Path(f\"../../data/{patient}/0.converted/\").resolve()\n",
                "output_dir.mkdir(parents=True, exist_ok=True)\n",
                "middle_slice_sc_output = pathlib.Path(output_dir, \"middle_slice_sc.parquet\").resolve()\n",
                "max_projected_sc_output = pathlib.Path(output_dir, \"max_projected_sc.parquet\").resolve()\n",
                "middle_slice_organoid_output = pathlib.Path(\n",
                "    output_dir, \"middle_slice_organoid.parquet\"\n",
                ").resolve()\n",
                "max_projected_organoid_output = pathlib.Path(\n",
                "    output_dir, \"max_projected_organoid.parquet\"\n",
                ").resolve()"
            ]
        },
        {
            "cell_type": "markdown",
            "metadata": {},
            "source": [
                "## Set paths and variables"
            ]
        },
        {
            "cell_type": "code",
            "execution_count": 3,
            "metadata": {},
            "outputs": [],
            "source": [
                "# preset configurations based on typical CellProfiler outputs\n",
                "preset = \"cellprofiler_sqlite_pycytominer\"\n",
                "\n",
                "# update preset to include site metadata and cell counts\n",
                "joins = presets.config[\"cellprofiler_sqlite_pycytominer\"][\"CONFIG_JOINS\"].replace(\n",
                "    \"Image_Metadata_Well,\",\n",
                "    \"Image_Metadata_Well, Image_Metadata_Site, Image_Count_Cells,\",\n",
                ")\n",
                "\n",
                "# type of file output from cytotable (currently only parquet)\n",
                "dest_datatype = \"parquet\"\n",
                "\n",
                "\n",
                "well_fov_dict = {}\n",
                "for sqlite_dir in [middle_slice_input, max_projected_input]:\n",
                "    twoD_type = sqlite_dir.name.split(\"_out\")[0].split(\"cellprofiler_\")[1]\n",
                "    well_fov_dict[twoD_type] = {}\n",
                "    sqlites = list(sqlite_dir.rglob(\"*sqlite\"))\n",
                "    sqlites.sort()  # sort to ensure consistent order\n",
                "    for file_path in sqlites:\n",
                "        well_fov = file_path.parent.stem\n",
                "        well_fov_dict[twoD_type][well_fov] = {\n",
                "            \"image_path\": file_path,\n",
                "            \"output_dir\": output_dir / twoD_type / f\"{well_fov}\",\n",
                "        }"
            ]
        },
        {
            "cell_type": "markdown",
            "metadata": {},
            "source": [
                "## Convert SQLite to parquet file(s) for single-cell profiles"
            ]
        },
        {
            "cell_type": "code",
            "execution_count": 4,
            "metadata": {},
            "outputs": [
                {
                    "data": {
                        "text/plain": [
                            "{'middle_slice': {'df_list': []}, 'zmax_proj': {'df_list': []}}"
                        ]
                    },
                    "execution_count": 4,
                    "metadata": {},
                    "output_type": "execute_result"
                }
            ],
            "source": [
                "output_dict_of_dfs = {}\n",
                "for sqlite_dir in [middle_slice_input, max_projected_input]:\n",
                "    output_dict_of_dfs[sqlite_dir.name.split(\"_out\")[0].split(\"cellprofiler_\")[1]] = {\n",
                "        \"df_list\": [],\n",
                "    }\n",
                "output_dict_of_dfs"
            ]
        },
        {
            "cell_type": "code",
            "execution_count": 5,
            "metadata": {},
            "outputs": [
                {
                    "name": "stderr",
                    "output_type": "stream",
                    "text": [
                        "  0%|          | 1/347 [00:07<41:52,  7.26s/it]"
                    ]
                },
                {
                    "name": "stdout",
                    "output_type": "stream",
                    "text": [
                        "Error processing /home/lippincm/4TB_A/NF1_2D_organoid_profiling_pipeline/data/NF0021/cellprofiler_middle_slice_output/C10-1/gff_extracted_features.sqlite: list index out of range\n",
                        "Error processing /home/lippincm/4TB_A/NF1_2D_organoid_profiling_pipeline/data/NF0021/cellprofiler_middle_slice_output/C10-2/gff_extracted_features.sqlite: An existing file or directory was provided as dest_path: '/home/lippincm/4TB_A/NF1_2D_organoid_profiling_pipeline/data/NF0021/0.converted/middle_slice/C10-2_sc.parquet'. Please use a new path for this parameter.\n"
                    ]
                },
                {
                    "name": "stderr",
                    "output_type": "stream",
                    "text": [
                        "  1%|          | 4/347 [00:08<08:24,  1.47s/it]"
                    ]
                },
                {
                    "name": "stdout",
                    "output_type": "stream",
                    "text": [
                        "Error processing /home/lippincm/4TB_A/NF1_2D_organoid_profiling_pipeline/data/NF0021/cellprofiler_middle_slice_output/C10-3/gff_extracted_features.sqlite: list index out of range\n",
                        "Error processing /home/lippincm/4TB_A/NF1_2D_organoid_profiling_pipeline/data/NF0021/cellprofiler_middle_slice_output/C10-4/gff_extracted_features.sqlite: An existing file or directory was provided as dest_path: '/home/lippincm/4TB_A/NF1_2D_organoid_profiling_pipeline/data/NF0021/0.converted/middle_slice/C10-4_sc.parquet'. Please use a new path for this parameter.\n"
                    ]
                },
                {
                    "name": "stderr",
                    "output_type": "stream",
                    "text": [
                        "  2%|\u258f         | 6/347 [00:08<04:20,  1.31it/s]"
                    ]
                },
                {
                    "name": "stdout",
                    "output_type": "stream",
                    "text": [
                        "Error processing /home/lippincm/4TB_A/NF1_2D_organoid_profiling_pipeline/data/NF0021/cellprofiler_middle_slice_output/C10-5/gff_extracted_features.sqlite: An existing file or directory was provided as dest_path: '/home/lippincm/4TB_A/NF1_2D_organoid_profiling_pipeline/data/NF0021/0.converted/middle_slice/C10-5_sc.parquet'. Please use a new path for this parameter.\n",
                        "Error processing /home/lippincm/4TB_A/NF1_2D_organoid_profiling_pipeline/data/NF0021/cellprofiler_middle_slice_output/C10-6/gff_extracted_features.sqlite: An existing file or directory was provided as dest_path: '/home/lippincm/4TB_A/NF1_2D_organoid_profiling_pipeline/data/NF0021/0.converted/middle_slice/C10-6_sc.parquet'. Please use a new path for this parameter.\n"
                    ]
                },
                {
                    "name": "stderr",
                    "output_type": "stream",
                    "text": [
                        "  2%|\u258f         | 7/347 [00:08<03:16,  1.73it/s]"
                    ]
                },
                {
                    "name": "stdout",
                    "output_type": "stream",
                    "text": [
                        "Error processing /home/lippincm/4TB_A/NF1_2D_organoid_profiling_pipeline/data/NF0021/cellprofiler_middle_slice_output/C10-7/gff_extracted_features.sqlite: An existing file or directory was provided as dest_path: '/home/lippincm/4TB_A/NF1_2D_organoid_profiling_pipeline/data/NF0021/0.converted/middle_slice/C10-7_sc.parquet'. Please use a new path for this parameter.\n",
                        "Error processing /home/lippincm/4TB_A/NF1_2D_organoid_profiling_pipeline/data/NF0021/cellprofiler_middle_slice_output/C11-1/gff_extracted_features.sqlite: An existing file or directory was provided as dest_path: '/home/lippincm/4TB_A/NF1_2D_organoid_profiling_pipeline/data/NF0021/0.converted/middle_slice/C11-1_sc.parquet'. Please use a new path for this parameter.\n"
                    ]
                },
                {
                    "name": "stderr",
                    "output_type": "stream",
                    "text": [
                        "  3%|\u258e         | 10/347 [00:09<02:03,  2.73it/s]"
                    ]
                },
                {
                    "name": "stdout",
                    "output_type": "stream",
                    "text": [
                        "Error processing /home/lippincm/4TB_A/NF1_2D_organoid_profiling_pipeline/data/NF0021/cellprofiler_middle_slice_output/C11-2/gff_extracted_features.sqlite: list index out of range\n",
                        "Error processing /home/lippincm/4TB_A/NF1_2D_organoid_profiling_pipeline/data/NF0021/cellprofiler_middle_slice_output/C11-3/gff_extracted_features.sqlite: An existing file or directory was provided as dest_path: '/home/lippincm/4TB_A/NF1_2D_organoid_profiling_pipeline/data/NF0021/0.converted/middle_slice/C11-3_sc.parquet'. Please use a new path for this parameter.\n"
                    ]
                },
                {
                    "name": "stderr",
                    "output_type": "stream",
                    "text": [
                        "  4%|\u258d         | 14/347 [00:40<34:02,  6.13s/it]"
                    ]
                },
                {
                    "name": "stdout",
                    "output_type": "stream",
                    "text": [
                        "Error processing /home/lippincm/4TB_A/NF1_2D_organoid_profiling_pipeline/data/NF0021/cellprofiler_middle_slice_output/C11-7/gff_extracted_features.sqlite: list index out of range\n"
                    ]
                },
                {
                    "name": "stderr",
                    "output_type": "stream",
                    "text": [
                        "  5%|\u258c         | 18/347 [01:12<43:02,  7.85s/it]"
                    ]
                },
                {
                    "name": "stdout",
                    "output_type": "stream",
                    "text": [
                        "Error processing /home/lippincm/4TB_A/NF1_2D_organoid_profiling_pipeline/data/NF0021/cellprofiler_middle_slice_output/C2-4/gff_extracted_features.sqlite: list index out of range\n"
                    ]
                },
                {
                    "name": "stderr",
                    "output_type": "stream",
                    "text": [
                        "  5%|\u258c         | 19/347 [01:13<31:17,  5.73s/it]"
                    ]
                },
                {
                    "name": "stdout",
                    "output_type": "stream",
                    "text": [
                        "Error processing /home/lippincm/4TB_A/NF1_2D_organoid_profiling_pipeline/data/NF0021/cellprofiler_middle_slice_output/C2-5/gff_extracted_features.sqlite: list index out of range\n"
                    ]
                },
                {
                    "name": "stderr",
                    "output_type": "stream",
                    "text": [
                        "  6%|\u258c         | 21/347 [01:23<30:00,  5.52s/it]"
                    ]
                },
                {
                    "name": "stdout",
                    "output_type": "stream",
                    "text": [
                        "Error processing /home/lippincm/4TB_A/NF1_2D_organoid_profiling_pipeline/data/NF0021/cellprofiler_middle_slice_output/C2-7/gff_extracted_features.sqlite: list index out of range\n"
                    ]
                },
                {
                    "name": "stderr",
                    "output_type": "stream",
                    "text": [
                        "  6%|\u258b         | 22/347 [01:24<21:59,  4.06s/it]"
                    ]
                },
                {
                    "name": "stdout",
                    "output_type": "stream",
                    "text": [
                        "Error processing /home/lippincm/4TB_A/NF1_2D_organoid_profiling_pipeline/data/NF0021/cellprofiler_middle_slice_output/C3-1/gff_extracted_features.sqlite: list index out of range\n"
                    ]
                },
                {
                    "name": "stderr",
                    "output_type": "stream",
                    "text": [
                        "  7%|\u258b         | 23/347 [01:24<16:23,  3.04s/it]"
                    ]
                },
                {
                    "name": "stdout",
                    "output_type": "stream",
                    "text": [
                        "Error processing /home/lippincm/4TB_A/NF1_2D_organoid_profiling_pipeline/data/NF0021/cellprofiler_middle_slice_output/C3-2/gff_extracted_features.sqlite: list index out of range\n"
                    ]
                },
                {
                    "name": "stderr",
                    "output_type": "stream",
                    "text": [
                        "  9%|\u2589         | 32/347 [02:51<50:07,  9.55s/it]"
                    ]
                },
                {
                    "name": "stdout",
                    "output_type": "stream",
                    "text": [
                        "Error processing /home/lippincm/4TB_A/NF1_2D_organoid_profiling_pipeline/data/NF0021/cellprofiler_middle_slice_output/C4-5/gff_extracted_features.sqlite: list index out of range\n"
                    ]
                },
                {
                    "name": "stderr",
                    "output_type": "stream",
                    "text": [
                        " 12%|\u2588\u258f        | 41/347 [04:18<49:12,  9.65s/it]"
                    ]
                },
                {
                    "name": "stdout",
                    "output_type": "stream",
                    "text": [
                        "Error processing /home/lippincm/4TB_A/NF1_2D_organoid_profiling_pipeline/data/NF0021/cellprofiler_middle_slice_output/C5-7/gff_extracted_features.sqlite: list index out of range\n"
                    ]
                },
                {
                    "name": "stderr",
                    "output_type": "stream",
                    "text": [
                        " 14%|\u2588\u258d        | 50/347 [05:45<47:56,  9.69s/it]"
                    ]
                },
                {
                    "name": "stdout",
                    "output_type": "stream",
                    "text": [
                        "Error processing /home/lippincm/4TB_A/NF1_2D_organoid_profiling_pipeline/data/NF0021/cellprofiler_middle_slice_output/C7-2/gff_extracted_features.sqlite: list index out of range\n"
                    ]
                },
                {
                    "name": "stderr",
                    "output_type": "stream",
                    "text": [
                        " 15%|\u2588\u258d        | 51/347 [05:46<34:37,  7.02s/it]"
                    ]
                },
                {
                    "name": "stdout",
                    "output_type": "stream",
                    "text": [
                        "Error processing /home/lippincm/4TB_A/NF1_2D_organoid_profiling_pipeline/data/NF0021/cellprofiler_middle_slice_output/C7-3/gff_extracted_features.sqlite: list index out of range\n"
                    ]
                },
                {
                    "name": "stderr",
                    "output_type": "stream",
                    "text": [
                        " 15%|\u2588\u258d        | 52/347 [05:47<25:12,  5.13s/it]"
                    ]
                },
                {
                    "name": "stdout",
                    "output_type": "stream",
                    "text": [
                        "Error processing /home/lippincm/4TB_A/NF1_2D_organoid_profiling_pipeline/data/NF0021/cellprofiler_middle_slice_output/C7-4/gff_extracted_features.sqlite: list index out of range\n"
                    ]
                },
                {
                    "name": "stderr",
                    "output_type": "stream",
                    "text": [
                        " 15%|\u2588\u258c        | 53/347 [05:47<18:08,  3.70s/it]"
                    ]
                },
                {
                    "name": "stdout",
                    "output_type": "stream",
                    "text": [
                        "Error processing /home/lippincm/4TB_A/NF1_2D_organoid_profiling_pipeline/data/NF0021/cellprofiler_middle_slice_output/C7-5/gff_extracted_features.sqlite: list index out of range\n"
                    ]
                },
                {
                    "name": "stderr",
                    "output_type": "stream",
                    "text": [
                        " 16%|\u2588\u258c        | 54/347 [05:47<13:01,  2.67s/it]"
                    ]
                },
                {
                    "name": "stdout",
                    "output_type": "stream",
                    "text": [
                        "Error processing /home/lippincm/4TB_A/NF1_2D_organoid_profiling_pipeline/data/NF0021/cellprofiler_middle_slice_output/C7-6/gff_extracted_features.sqlite: list index out of range\n"
                    ]
                },
                {
                    "name": "stderr",
                    "output_type": "stream",
                    "text": [
                        " 16%|\u2588\u258c        | 56/347 [05:57<19:42,  4.06s/it]"
                    ]
                },
                {
                    "name": "stdout",
                    "output_type": "stream",
                    "text": [
                        "Error processing /home/lippincm/4TB_A/NF1_2D_organoid_profiling_pipeline/data/NF0021/cellprofiler_middle_slice_output/C8-1/gff_extracted_features.sqlite: list index out of range\n"
                    ]
                },
                {
                    "name": "stderr",
                    "output_type": "stream",
                    "text": [
                        " 19%|\u2588\u2589        | 66/347 [07:37<45:45,  9.77s/it]"
                    ]
                },
                {
                    "name": "stdout",
                    "output_type": "stream",
                    "text": [
                        "Error processing /home/lippincm/4TB_A/NF1_2D_organoid_profiling_pipeline/data/NF0021/cellprofiler_middle_slice_output/C9-4/gff_extracted_features.sqlite: list index out of range\n"
                    ]
                },
                {
                    "name": "stderr",
                    "output_type": "stream",
                    "text": [
                        " 22%|\u2588\u2588\u258f       | 75/347 [09:10<47:24, 10.46s/it]"
                    ]
                },
                {
                    "name": "stdout",
                    "output_type": "stream",
                    "text": [
                        "Error processing /home/lippincm/4TB_A/NF1_2D_organoid_profiling_pipeline/data/NF0021/cellprofiler_middle_slice_output/D10-6/gff_extracted_features.sqlite: list index out of range\n"
                    ]
                },
                {
                    "name": "stderr",
                    "output_type": "stream",
                    "text": [
                        " 24%|\u2588\u2588\u258d       | 83/347 [10:31<45:17, 10.29s/it]"
                    ]
                },
                {
                    "name": "stdout",
                    "output_type": "stream",
                    "text": [
                        "Error processing /home/lippincm/4TB_A/NF1_2D_organoid_profiling_pipeline/data/NF0021/cellprofiler_middle_slice_output/D11-7/gff_extracted_features.sqlite: list index out of range\n"
                    ]
                },
                {
                    "name": "stderr",
                    "output_type": "stream",
                    "text": [
                        " 25%|\u2588\u2588\u258c       | 87/347 [11:11<43:44, 10.09s/it]"
                    ]
                },
                {
                    "name": "stdout",
                    "output_type": "stream",
                    "text": [
                        "Error processing /home/lippincm/4TB_A/NF1_2D_organoid_profiling_pipeline/data/NF0021/cellprofiler_middle_slice_output/D2-4/gff_extracted_features.sqlite: list index out of range\n"
                    ]
                },
                {
                    "name": "stderr",
                    "output_type": "stream",
                    "text": [
                        " 26%|\u2588\u2588\u258c       | 91/347 [12:08<56:19, 13.20s/it]  "
                    ]
                },
                {
                    "name": "stdout",
                    "output_type": "stream",
                    "text": [
                        "Error processing /home/lippincm/4TB_A/NF1_2D_organoid_profiling_pipeline/data/NF0021/cellprofiler_middle_slice_output/D3-1/gff_extracted_features.sqlite: list index out of range\n"
                    ]
                },
                {
                    "name": "stderr",
                    "output_type": "stream",
                    "text": [
                        " 27%|\u2588\u2588\u258b       | 95/347 [13:07<1:00:12, 14.34s/it]"
                    ]
                },
                {
                    "name": "stdout",
                    "output_type": "stream",
                    "text": [
                        "Error processing /home/lippincm/4TB_A/NF1_2D_organoid_profiling_pipeline/data/NF0021/cellprofiler_middle_slice_output/D3-5/gff_extracted_features.sqlite: list index out of range\n"
                    ]
                },
                {
                    "name": "stderr",
                    "output_type": "stream",
                    "text": [
                        " 28%|\u2588\u2588\u258a       | 97/347 [13:29<53:10, 12.76s/it]  "
                    ]
                },
                {
                    "name": "stdout",
                    "output_type": "stream",
                    "text": [
                        "Error processing /home/lippincm/4TB_A/NF1_2D_organoid_profiling_pipeline/data/NF0021/cellprofiler_middle_slice_output/D3-7/gff_extracted_features.sqlite: list index out of range\n"
                    ]
                },
                {
                    "name": "stderr",
                    "output_type": "stream",
                    "text": [
                        " 29%|\u2588\u2588\u2589       | 101/347 [14:29<58:50, 14.35s/it]  "
                    ]
                },
                {
                    "name": "stdout",
                    "output_type": "stream",
                    "text": [
                        "Error processing /home/lippincm/4TB_A/NF1_2D_organoid_profiling_pipeline/data/NF0021/cellprofiler_middle_slice_output/D4-4/gff_extracted_features.sqlite: list index out of range\n"
                    ]
                },
                {
                    "name": "stderr",
                    "output_type": "stream",
                    "text": [
                        " 29%|\u2588\u2588\u2589       | 102/347 [14:31<43:10, 10.57s/it]"
                    ]
                },
                {
                    "name": "stdout",
                    "output_type": "stream",
                    "text": [
                        "Error processing /home/lippincm/4TB_A/NF1_2D_organoid_profiling_pipeline/data/NF0021/cellprofiler_middle_slice_output/D4-5/gff_extracted_features.sqlite: list index out of range\n"
                    ]
                },
                {
                    "name": "stderr",
                    "output_type": "stream",
                    "text": [
                        " 31%|\u2588\u2588\u2588       | 106/347 [15:29<54:49, 13.65s/it]"
                    ]
                },
                {
                    "name": "stdout",
                    "output_type": "stream",
                    "text": [
                        "Error processing /home/lippincm/4TB_A/NF1_2D_organoid_profiling_pipeline/data/NF0021/cellprofiler_middle_slice_output/D5-2/gff_extracted_features.sqlite: list index out of range\n"
                    ]
                },
                {
                    "name": "stderr",
                    "output_type": "stream",
                    "text": [
                        " 34%|\u2588\u2588\u2588\u258e      | 117/347 [18:48<1:04:24, 16.80s/it]"
                    ]
                },
                {
                    "name": "stdout",
                    "output_type": "stream",
                    "text": [
                        "Error processing /home/lippincm/4TB_A/NF1_2D_organoid_profiling_pipeline/data/NF0021/cellprofiler_middle_slice_output/D6-6/gff_extracted_features.sqlite: list index out of range\n"
                    ]
                },
                {
                    "name": "stderr",
                    "output_type": "stream",
                    "text": [
                        " 34%|\u2588\u2588\u2588\u258d      | 119/347 [19:08<50:44, 13.35s/it]  "
                    ]
                },
                {
                    "name": "stdout",
                    "output_type": "stream",
                    "text": [
                        "Error processing /home/lippincm/4TB_A/NF1_2D_organoid_profiling_pipeline/data/NF0021/cellprofiler_middle_slice_output/D7-1/gff_extracted_features.sqlite: list index out of range\n"
                    ]
                },
                {
                    "name": "stderr",
                    "output_type": "stream",
                    "text": [
                        " 35%|\u2588\u2588\u2588\u258d      | 120/347 [19:09<37:18,  9.86s/it]"
                    ]
                },
                {
                    "name": "stdout",
                    "output_type": "stream",
                    "text": [
                        "Error processing /home/lippincm/4TB_A/NF1_2D_organoid_profiling_pipeline/data/NF0021/cellprofiler_middle_slice_output/D7-2/gff_extracted_features.sqlite: list index out of range\n"
                    ]
                },
                {
                    "name": "stderr",
                    "output_type": "stream",
                    "text": [
                        " 35%|\u2588\u2588\u2588\u258d      | 121/347 [19:11<27:48,  7.38s/it]"
                    ]
                },
                {
                    "name": "stdout",
                    "output_type": "stream",
                    "text": [
                        "Error processing /home/lippincm/4TB_A/NF1_2D_organoid_profiling_pipeline/data/NF0021/cellprofiler_middle_slice_output/D7-3/gff_extracted_features.sqlite: list index out of range\n"
                    ]
                },
                {
                    "name": "stderr",
                    "output_type": "stream",
                    "text": [
                        " 35%|\u2588\u2588\u2588\u258c      | 122/347 [19:12<20:22,  5.43s/it]"
                    ]
                },
                {
                    "name": "stdout",
                    "output_type": "stream",
                    "text": [
                        "Error processing /home/lippincm/4TB_A/NF1_2D_organoid_profiling_pipeline/data/NF0021/cellprofiler_middle_slice_output/D7-4/gff_extracted_features.sqlite: list index out of range\n"
                    ]
                },
                {
                    "name": "stderr",
                    "output_type": "stream",
                    "text": [
                        " 35%|\u2588\u2588\u2588\u258c      | 123/347 [19:13<15:16,  4.09s/it]"
                    ]
                },
                {
                    "name": "stdout",
                    "output_type": "stream",
                    "text": [
                        "Error processing /home/lippincm/4TB_A/NF1_2D_organoid_profiling_pipeline/data/NF0021/cellprofiler_middle_slice_output/D7-6/gff_extracted_features.sqlite: list index out of range\n"
                    ]
                },
                {
                    "name": "stderr",
                    "output_type": "stream",
                    "text": [
                        " 36%|\u2588\u2588\u2588\u258c      | 124/347 [19:14<11:37,  3.13s/it]"
                    ]
                },
                {
                    "name": "stdout",
                    "output_type": "stream",
                    "text": [
                        "Error processing /home/lippincm/4TB_A/NF1_2D_organoid_profiling_pipeline/data/NF0021/cellprofiler_middle_slice_output/D7-7/gff_extracted_features.sqlite: list index out of range\n"
                    ]
                },
                {
                    "name": "stderr",
                    "output_type": "stream",
                    "text": [
                        " 39%|\u2588\u2588\u2588\u2589      | 136/347 [22:57<58:01, 16.50s/it]  "
                    ]
                },
                {
                    "name": "stdout",
                    "output_type": "stream",
                    "text": [
                        "Error processing /home/lippincm/4TB_A/NF1_2D_organoid_profiling_pipeline/data/NF0021/cellprofiler_middle_slice_output/D9-5/gff_extracted_features.sqlite: list index out of range\n"
                    ]
                },
                {
                    "name": "stderr",
                    "output_type": "stream",
                    "text": [
                        " 41%|\u2588\u2588\u2588\u2588\u258f     | 144/347 [25:20<57:25, 16.97s/it]  "
                    ]
                },
                {
                    "name": "stdout",
                    "output_type": "stream",
                    "text": [
                        "Error processing /home/lippincm/4TB_A/NF1_2D_organoid_profiling_pipeline/data/NF0021/cellprofiler_middle_slice_output/E10-7/gff_extracted_features.sqlite: list index out of range\n"
                    ]
                },
                {
                    "name": "stderr",
                    "output_type": "stream",
                    "text": [
                        " 42%|\u2588\u2588\u2588\u2588\u258f     | 145/347 [25:22<41:42, 12.39s/it]"
                    ]
                },
                {
                    "name": "stdout",
                    "output_type": "stream",
                    "text": [
                        "Error processing /home/lippincm/4TB_A/NF1_2D_organoid_profiling_pipeline/data/NF0021/cellprofiler_middle_slice_output/E11-1/gff_extracted_features.sqlite: list index out of range\n"
                    ]
                },
                {
                    "name": "stderr",
                    "output_type": "stream",
                    "text": [
                        " 43%|\u2588\u2588\u2588\u2588\u258e     | 150/347 [26:41<50:12, 15.29s/it]"
                    ]
                },
                {
                    "name": "stdout",
                    "output_type": "stream",
                    "text": [
                        "Error processing /home/lippincm/4TB_A/NF1_2D_organoid_profiling_pipeline/data/NF0021/cellprofiler_middle_slice_output/E11-6/gff_extracted_features.sqlite: list index out of range\n"
                    ]
                },
                {
                    "name": "stderr",
                    "output_type": "stream",
                    "text": [
                        " 44%|\u2588\u2588\u2588\u2588\u258e     | 151/347 [26:43<36:42, 11.24s/it]"
                    ]
                },
                {
                    "name": "stdout",
                    "output_type": "stream",
                    "text": [
                        "Error processing /home/lippincm/4TB_A/NF1_2D_organoid_profiling_pipeline/data/NF0021/cellprofiler_middle_slice_output/E11-7/gff_extracted_features.sqlite: list index out of range\n"
                    ]
                },
                {
                    "name": "stderr",
                    "output_type": "stream",
                    "text": [
                        " 46%|\u2588\u2588\u2588\u2588\u258c     | 159/347 [29:03<51:44, 16.51s/it]  "
                    ]
                },
                {
                    "name": "stdout",
                    "output_type": "stream",
                    "text": [
                        "Error processing /home/lippincm/4TB_A/NF1_2D_organoid_profiling_pipeline/data/NF0021/cellprofiler_middle_slice_output/E3-1/gff_extracted_features.sqlite: list index out of range\n"
                    ]
                },
                {
                    "name": "stderr",
                    "output_type": "stream",
                    "text": [
                        " 47%|\u2588\u2588\u2588\u2588\u258b     | 164/347 [30:31<51:09, 16.77s/it]"
                    ]
                },
                {
                    "name": "stdout",
                    "output_type": "stream",
                    "text": [
                        "Error processing /home/lippincm/4TB_A/NF1_2D_organoid_profiling_pipeline/data/NF0021/cellprofiler_middle_slice_output/E3-6/gff_extracted_features.sqlite: list index out of range\n"
                    ]
                },
                {
                    "name": "stderr",
                    "output_type": "stream",
                    "text": [
                        " 48%|\u2588\u2588\u2588\u2588\u258a     | 168/347 [31:31<46:07, 15.46s/it]"
                    ]
                },
                {
                    "name": "stdout",
                    "output_type": "stream",
                    "text": [
                        "Error processing /home/lippincm/4TB_A/NF1_2D_organoid_profiling_pipeline/data/NF0021/cellprofiler_middle_slice_output/E4-3/gff_extracted_features.sqlite: list index out of range\n"
                    ]
                },
                {
                    "name": "stderr",
                    "output_type": "stream",
                    "text": [
                        " 52%|\u2588\u2588\u2588\u2588\u2588\u258f    | 179/347 [34:51<47:17, 16.89s/it]"
                    ]
                },
                {
                    "name": "stdout",
                    "output_type": "stream",
                    "text": [
                        "Error processing /home/lippincm/4TB_A/NF1_2D_organoid_profiling_pipeline/data/NF0021/cellprofiler_middle_slice_output/E5-7/gff_extracted_features.sqlite: list index out of range\n"
                    ]
                },
                {
                    "name": "stderr",
                    "output_type": "stream",
                    "text": [
                        " 52%|\u2588\u2588\u2588\u2588\u2588\u258f    | 182/347 [35:30<39:25, 14.34s/it]"
                    ]
                },
                {
                    "name": "stdout",
                    "output_type": "stream",
                    "text": [
                        "Error processing /home/lippincm/4TB_A/NF1_2D_organoid_profiling_pipeline/data/NF0021/cellprofiler_middle_slice_output/E6-3/gff_extracted_features.sqlite: list index out of range\n"
                    ]
                },
                {
                    "name": "stderr",
                    "output_type": "stream",
                    "text": [
                        " 58%|\u2588\u2588\u2588\u2588\u2588\u258a    | 200/347 [41:24<43:56, 17.94s/it]"
                    ]
                },
                {
                    "name": "stdout",
                    "output_type": "stream",
                    "text": [
                        "Error processing /home/lippincm/4TB_A/NF1_2D_organoid_profiling_pipeline/data/NF0021/cellprofiler_middle_slice_output/E8-7/gff_extracted_features.sqlite: list index out of range\n"
                    ]
                },
                {
                    "name": "stderr",
                    "output_type": "stream",
                    "text": [
                        " 60%|\u2588\u2588\u2588\u2588\u2588\u2589    | 208/347 [43:59<44:23, 19.16s/it]"
                    ]
                },
                {
                    "name": "stdout",
                    "output_type": "stream",
                    "text": [
                        "Error processing /home/lippincm/4TB_A/NF1_2D_organoid_profiling_pipeline/data/NF0021/cellprofiler_middle_slice_output/F10-1/gff_extracted_features.sqlite: list index out of range\n"
                    ]
                },
                {
                    "name": "stderr",
                    "output_type": "stream",
                    "text": [
                        " 61%|\u2588\u2588\u2588\u2588\u2588\u2588    | 212/347 [45:17<43:16, 19.24s/it]"
                    ]
                },
                {
                    "name": "stdout",
                    "output_type": "stream",
                    "text": [
                        "Error processing /home/lippincm/4TB_A/NF1_2D_organoid_profiling_pipeline/data/NF0021/cellprofiler_middle_slice_output/F10-5/gff_extracted_features.sqlite: list index out of range\n"
                    ]
                },
                {
                    "name": "stderr",
                    "output_type": "stream",
                    "text": [
                        " 61%|\u2588\u2588\u2588\u2588\u2588\u2588\u258f   | 213/347 [45:19<31:41, 14.19s/it]"
                    ]
                },
                {
                    "name": "stdout",
                    "output_type": "stream",
                    "text": [
                        "Error processing /home/lippincm/4TB_A/NF1_2D_organoid_profiling_pipeline/data/NF0021/cellprofiler_middle_slice_output/F10-6/gff_extracted_features.sqlite: list index out of range\n"
                    ]
                },
                {
                    "name": "stderr",
                    "output_type": "stream",
                    "text": [
                        " 62%|\u2588\u2588\u2588\u2588\u2588\u2588\u258f   | 215/347 [45:40<26:59, 12.27s/it]"
                    ]
                },
                {
                    "name": "stdout",
                    "output_type": "stream",
                    "text": [
                        "Error processing /home/lippincm/4TB_A/NF1_2D_organoid_profiling_pipeline/data/NF0021/cellprofiler_middle_slice_output/F11-1/gff_extracted_features.sqlite: list index out of range\n"
                    ]
                },
                {
                    "name": "stderr",
                    "output_type": "stream",
                    "text": [
                        " 63%|\u2588\u2588\u2588\u2588\u2588\u2588\u258e   | 217/347 [46:02<25:20, 11.69s/it]"
                    ]
                },
                {
                    "name": "stdout",
                    "output_type": "stream",
                    "text": [
                        "Error processing /home/lippincm/4TB_A/NF1_2D_organoid_profiling_pipeline/data/NF0021/cellprofiler_middle_slice_output/F11-3/gff_extracted_features.sqlite: list index out of range\n"
                    ]
                },
                {
                    "name": "stderr",
                    "output_type": "stream",
                    "text": [
                        " 63%|\u2588\u2588\u2588\u2588\u2588\u2588\u258e   | 220/347 [46:44<27:59, 13.23s/it]"
                    ]
                },
                {
                    "name": "stdout",
                    "output_type": "stream",
                    "text": [
                        "Error processing /home/lippincm/4TB_A/NF1_2D_organoid_profiling_pipeline/data/NF0021/cellprofiler_middle_slice_output/F11-6/gff_extracted_features.sqlite: list index out of range\n"
                    ]
                },
                {
                    "name": "stderr",
                    "output_type": "stream",
                    "text": [
                        " 65%|\u2588\u2588\u2588\u2588\u2588\u2588\u258c   | 226/347 [48:31<33:54, 16.81s/it]"
                    ]
                },
                {
                    "name": "stdout",
                    "output_type": "stream",
                    "text": [
                        "Error processing /home/lippincm/4TB_A/NF1_2D_organoid_profiling_pipeline/data/NF0021/cellprofiler_middle_slice_output/F2-5/gff_extracted_features.sqlite: list index out of range\n"
                    ]
                },
                {
                    "name": "stderr",
                    "output_type": "stream",
                    "text": [
                        " 66%|\u2588\u2588\u2588\u2588\u2588\u2588\u258b   | 230/347 [49:36<31:40, 16.24s/it]"
                    ]
                },
                {
                    "name": "stdout",
                    "output_type": "stream",
                    "text": [
                        "Error processing /home/lippincm/4TB_A/NF1_2D_organoid_profiling_pipeline/data/NF0021/cellprofiler_middle_slice_output/F3-2/gff_extracted_features.sqlite: list index out of range\n"
                    ]
                },
                {
                    "name": "stderr",
                    "output_type": "stream",
                    "text": [
                        " 67%|\u2588\u2588\u2588\u2588\u2588\u2588\u258b   | 233/347 [50:21<29:16, 15.40s/it]"
                    ]
                },
                {
                    "name": "stdout",
                    "output_type": "stream",
                    "text": [
                        "Error processing /home/lippincm/4TB_A/NF1_2D_organoid_profiling_pipeline/data/NF0021/cellprofiler_middle_slice_output/F3-5/gff_extracted_features.sqlite: list index out of range\n"
                    ]
                },
                {
                    "name": "stderr",
                    "output_type": "stream",
                    "text": [
                        " 67%|\u2588\u2588\u2588\u2588\u2588\u2588\u258b   | 234/347 [50:24<21:36, 11.48s/it]"
                    ]
                },
                {
                    "name": "stdout",
                    "output_type": "stream",
                    "text": [
                        "Error processing /home/lippincm/4TB_A/NF1_2D_organoid_profiling_pipeline/data/NF0021/cellprofiler_middle_slice_output/F3-6/gff_extracted_features.sqlite: list index out of range\n"
                    ]
                },
                {
                    "name": "stderr",
                    "output_type": "stream",
                    "text": [
                        " 68%|\u2588\u2588\u2588\u2588\u2588\u2588\u258a   | 235/347 [50:26<16:02,  8.59s/it]"
                    ]
                },
                {
                    "name": "stdout",
                    "output_type": "stream",
                    "text": [
                        "Error processing /home/lippincm/4TB_A/NF1_2D_organoid_profiling_pipeline/data/NF0021/cellprofiler_middle_slice_output/F3-7/gff_extracted_features.sqlite: list index out of range\n"
                    ]
                },
                {
                    "name": "stderr",
                    "output_type": "stream",
                    "text": [
                        " 68%|\u2588\u2588\u2588\u2588\u2588\u2588\u258a   | 237/347 [50:46<17:17,  9.43s/it]"
                    ]
                },
                {
                    "name": "stdout",
                    "output_type": "stream",
                    "text": [
                        "Error processing /home/lippincm/4TB_A/NF1_2D_organoid_profiling_pipeline/data/NF0021/cellprofiler_middle_slice_output/F4-2/gff_extracted_features.sqlite: list index out of range\n"
                    ]
                },
                {
                    "name": "stderr",
                    "output_type": "stream",
                    "text": [
                        " 69%|\u2588\u2588\u2588\u2588\u2588\u2588\u258a   | 238/347 [50:48<13:14,  7.29s/it]"
                    ]
                },
                {
                    "name": "stdout",
                    "output_type": "stream",
                    "text": [
                        "Error processing /home/lippincm/4TB_A/NF1_2D_organoid_profiling_pipeline/data/NF0021/cellprofiler_middle_slice_output/F4-3/gff_extracted_features.sqlite: list index out of range\n"
                    ]
                },
                {
                    "name": "stderr",
                    "output_type": "stream",
                    "text": [
                        " 69%|\u2588\u2588\u2588\u2588\u2588\u2588\u2589   | 240/347 [51:08<15:36,  8.75s/it]"
                    ]
                },
                {
                    "name": "stdout",
                    "output_type": "stream",
                    "text": [
                        "Error processing /home/lippincm/4TB_A/NF1_2D_organoid_profiling_pipeline/data/NF0021/cellprofiler_middle_slice_output/F4-5/gff_extracted_features.sqlite: list index out of range\n"
                    ]
                },
                {
                    "name": "stderr",
                    "output_type": "stream",
                    "text": [
                        " 69%|\u2588\u2588\u2588\u2588\u2588\u2588\u2589   | 241/347 [51:10<12:00,  6.80s/it]"
                    ]
                },
                {
                    "name": "stdout",
                    "output_type": "stream",
                    "text": [
                        "Error processing /home/lippincm/4TB_A/NF1_2D_organoid_profiling_pipeline/data/NF0021/cellprofiler_middle_slice_output/F4-6/gff_extracted_features.sqlite: list index out of range\n"
                    ]
                },
                {
                    "name": "stderr",
                    "output_type": "stream",
                    "text": [
                        " 70%|\u2588\u2588\u2588\u2588\u2588\u2588\u2589   | 242/347 [51:12<09:14,  5.28s/it]"
                    ]
                },
                {
                    "name": "stdout",
                    "output_type": "stream",
                    "text": [
                        "Error processing /home/lippincm/4TB_A/NF1_2D_organoid_profiling_pipeline/data/NF0021/cellprofiler_middle_slice_output/F4-7/gff_extracted_features.sqlite: list index out of range\n"
                    ]
                },
                {
                    "name": "stderr",
                    "output_type": "stream",
                    "text": [
                        " 70%|\u2588\u2588\u2588\u2588\u2588\u2588\u2588   | 244/347 [51:33<13:34,  7.91s/it]"
                    ]
                },
                {
                    "name": "stdout",
                    "output_type": "stream",
                    "text": [
                        "Error processing /home/lippincm/4TB_A/NF1_2D_organoid_profiling_pipeline/data/NF0021/cellprofiler_middle_slice_output/F5-2/gff_extracted_features.sqlite: list index out of range\n"
                    ]
                },
                {
                    "name": "stderr",
                    "output_type": "stream",
                    "text": [
                        " 72%|\u2588\u2588\u2588\u2588\u2588\u2588\u2588\u258f  | 250/347 [53:20<26:19, 16.28s/it]"
                    ]
                },
                {
                    "name": "stdout",
                    "output_type": "stream",
                    "text": [
                        "Error processing /home/lippincm/4TB_A/NF1_2D_organoid_profiling_pipeline/data/NF0021/cellprofiler_middle_slice_output/F6-1/gff_extracted_features.sqlite: list index out of range\n"
                    ]
                },
                {
                    "name": "stderr",
                    "output_type": "stream",
                    "text": [
                        " 75%|\u2588\u2588\u2588\u2588\u2588\u2588\u2588\u258c  | 261/347 [57:01<26:50, 18.73s/it]"
                    ]
                },
                {
                    "name": "stdout",
                    "output_type": "stream",
                    "text": [
                        "Error processing /home/lippincm/4TB_A/NF1_2D_organoid_profiling_pipeline/data/NF0021/cellprofiler_middle_slice_output/F7-5/gff_extracted_features.sqlite: list index out of range\n"
                    ]
                },
                {
                    "name": "stderr",
                    "output_type": "stream",
                    "text": [
                        " 78%|\u2588\u2588\u2588\u2588\u2588\u2588\u2588\u258a  | 270/347 [1:00:09<26:54, 20.97s/it]"
                    ]
                },
                {
                    "name": "stdout",
                    "output_type": "stream",
                    "text": [
                        "Error processing /home/lippincm/4TB_A/NF1_2D_organoid_profiling_pipeline/data/NF0021/cellprofiler_middle_slice_output/F8-7/gff_extracted_features.sqlite: list index out of range\n"
                    ]
                },
                {
                    "name": "stderr",
                    "output_type": "stream",
                    "text": [
                        " 78%|\u2588\u2588\u2588\u2588\u2588\u2588\u2588\u258a  | 271/347 [1:00:12<19:39, 15.51s/it]"
                    ]
                },
                {
                    "name": "stdout",
                    "output_type": "stream",
                    "text": [
                        "Error processing /home/lippincm/4TB_A/NF1_2D_organoid_profiling_pipeline/data/NF0021/cellprofiler_middle_slice_output/F9-1/gff_extracted_features.sqlite: list index out of range\n"
                    ]
                },
                {
                    "name": "stderr",
                    "output_type": "stream",
                    "text": [
                        " 78%|\u2588\u2588\u2588\u2588\u2588\u2588\u2588\u258a  | 272/347 [1:00:15<14:29, 11.59s/it]"
                    ]
                },
                {
                    "name": "stdout",
                    "output_type": "stream",
                    "text": [
                        "Error processing /home/lippincm/4TB_A/NF1_2D_organoid_profiling_pipeline/data/NF0021/cellprofiler_middle_slice_output/F9-2/gff_extracted_features.sqlite: list index out of range\n"
                    ]
                },
                {
                    "name": "stderr",
                    "output_type": "stream",
                    "text": [
                        " 79%|\u2588\u2588\u2588\u2588\u2588\u2588\u2588\u2589  | 274/347 [1:00:38<14:22, 11.81s/it]"
                    ]
                },
                {
                    "name": "stdout",
                    "output_type": "stream",
                    "text": [
                        "Error processing /home/lippincm/4TB_A/NF1_2D_organoid_profiling_pipeline/data/NF0021/cellprofiler_middle_slice_output/F9-4/gff_extracted_features.sqlite: list index out of range\n"
                    ]
                },
                {
                    "name": "stderr",
                    "output_type": "stream",
                    "text": [
                        " 80%|\u2588\u2588\u2588\u2588\u2588\u2588\u2588\u2589  | 276/347 [1:01:02<13:51, 11.70s/it]"
                    ]
                },
                {
                    "name": "stdout",
                    "output_type": "stream",
                    "text": [
                        "Error processing /home/lippincm/4TB_A/NF1_2D_organoid_profiling_pipeline/data/NF0021/cellprofiler_middle_slice_output/F9-6/gff_extracted_features.sqlite: list index out of range\n"
                    ]
                },
                {
                    "name": "stderr",
                    "output_type": "stream",
                    "text": [
                        " 80%|\u2588\u2588\u2588\u2588\u2588\u2588\u2588\u2588  | 278/347 [1:01:24<13:18, 11.57s/it]"
                    ]
                },
                {
                    "name": "stdout",
                    "output_type": "stream",
                    "text": [
                        "Error processing /home/lippincm/4TB_A/NF1_2D_organoid_profiling_pipeline/data/NF0021/cellprofiler_middle_slice_output/G10-1/gff_extracted_features.sqlite: list index out of range\n"
                    ]
                },
                {
                    "name": "stderr",
                    "output_type": "stream",
                    "text": [
                        " 80%|\u2588\u2588\u2588\u2588\u2588\u2588\u2588\u2588  | 279/347 [1:01:27<09:58,  8.80s/it]"
                    ]
                },
                {
                    "name": "stdout",
                    "output_type": "stream",
                    "text": [
                        "Error processing /home/lippincm/4TB_A/NF1_2D_organoid_profiling_pipeline/data/NF0021/cellprofiler_middle_slice_output/G10-2/gff_extracted_features.sqlite: list index out of range\n"
                    ]
                },
                {
                    "name": "stderr",
                    "output_type": "stream",
                    "text": [
                        " 81%|\u2588\u2588\u2588\u2588\u2588\u2588\u2588\u2588\u258f | 282/347 [1:02:11<13:42, 12.65s/it]"
                    ]
                },
                {
                    "name": "stdout",
                    "output_type": "stream",
                    "text": [
                        "Error processing /home/lippincm/4TB_A/NF1_2D_organoid_profiling_pipeline/data/NF0021/cellprofiler_middle_slice_output/G10-5/gff_extracted_features.sqlite: list index out of range\n"
                    ]
                },
                {
                    "name": "stderr",
                    "output_type": "stream",
                    "text": [
                        " 83%|\u2588\u2588\u2588\u2588\u2588\u2588\u2588\u2588\u258e | 289/347 [1:04:20<16:35, 17.17s/it]"
                    ]
                },
                {
                    "name": "stdout",
                    "output_type": "stream",
                    "text": [
                        "Error processing /home/lippincm/4TB_A/NF1_2D_organoid_profiling_pipeline/data/NF0021/cellprofiler_middle_slice_output/G11-5/gff_extracted_features.sqlite: list index out of range\n"
                    ]
                },
                {
                    "name": "stderr",
                    "output_type": "stream",
                    "text": [
                        " 85%|\u2588\u2588\u2588\u2588\u2588\u2588\u2588\u2588\u258d | 294/347 [1:05:48<15:05, 17.09s/it]"
                    ]
                },
                {
                    "name": "stdout",
                    "output_type": "stream",
                    "text": [
                        "Error processing /home/lippincm/4TB_A/NF1_2D_organoid_profiling_pipeline/data/NF0021/cellprofiler_middle_slice_output/G2-3/gff_extracted_features.sqlite: list index out of range\n"
                    ]
                },
                {
                    "name": "stderr",
                    "output_type": "stream",
                    "text": [
                        " 86%|\u2588\u2588\u2588\u2588\u2588\u2588\u2588\u2588\u258c | 298/347 [1:06:56<13:40, 16.74s/it]"
                    ]
                },
                {
                    "name": "stdout",
                    "output_type": "stream",
                    "text": [
                        "Error processing /home/lippincm/4TB_A/NF1_2D_organoid_profiling_pipeline/data/NF0021/cellprofiler_middle_slice_output/G2-7/gff_extracted_features.sqlite: list index out of range\n"
                    ]
                },
                {
                    "name": "stderr",
                    "output_type": "stream",
                    "text": [
                        " 86%|\u2588\u2588\u2588\u2588\u2588\u2588\u2588\u2588\u258c | 299/347 [1:06:58<09:59, 12.50s/it]"
                    ]
                },
                {
                    "name": "stdout",
                    "output_type": "stream",
                    "text": [
                        "Error processing /home/lippincm/4TB_A/NF1_2D_organoid_profiling_pipeline/data/NF0021/cellprofiler_middle_slice_output/G3-1/gff_extracted_features.sqlite: list index out of range\n"
                    ]
                },
                {
                    "name": "stderr",
                    "output_type": "stream",
                    "text": [
                        " 88%|\u2588\u2588\u2588\u2588\u2588\u2588\u2588\u2588\u258a | 306/347 [1:09:14<12:21, 18.08s/it]"
                    ]
                },
                {
                    "name": "stdout",
                    "output_type": "stream",
                    "text": [
                        "Error processing /home/lippincm/4TB_A/NF1_2D_organoid_profiling_pipeline/data/NF0021/cellprofiler_middle_slice_output/G4-1/gff_extracted_features.sqlite: list index out of range\n"
                    ]
                },
                {
                    "name": "stderr",
                    "output_type": "stream",
                    "text": [
                        " 90%|\u2588\u2588\u2588\u2588\u2588\u2588\u2588\u2588\u2589 | 312/347 [1:11:07<10:28, 17.97s/it]"
                    ]
                },
                {
                    "name": "stdout",
                    "output_type": "stream",
                    "text": [
                        "Error processing /home/lippincm/4TB_A/NF1_2D_organoid_profiling_pipeline/data/NF0021/cellprofiler_middle_slice_output/G4-7/gff_extracted_features.sqlite: list index out of range\n"
                    ]
                },
                {
                    "name": "stderr",
                    "output_type": "stream",
                    "text": [
                        " 90%|\u2588\u2588\u2588\u2588\u2588\u2588\u2588\u2588\u2588 | 314/347 [1:11:30<08:04, 14.68s/it]"
                    ]
                },
                {
                    "name": "stdout",
                    "output_type": "stream",
                    "text": [
                        "Error processing /home/lippincm/4TB_A/NF1_2D_organoid_profiling_pipeline/data/NF0021/cellprofiler_middle_slice_output/G5-2/gff_extracted_features.sqlite: list index out of range\n"
                    ]
                },
                {
                    "name": "stderr",
                    "output_type": "stream",
                    "text": [
                        " 91%|\u2588\u2588\u2588\u2588\u2588\u2588\u2588\u2588\u2588 | 316/347 [1:11:54<06:53, 13.34s/it]"
                    ]
                },
                {
                    "name": "stdout",
                    "output_type": "stream",
                    "text": [
                        "Error processing /home/lippincm/4TB_A/NF1_2D_organoid_profiling_pipeline/data/NF0021/cellprofiler_middle_slice_output/G5-4/gff_extracted_features.sqlite: list index out of range\n"
                    ]
                },
                {
                    "name": "stderr",
                    "output_type": "stream",
                    "text": [
                        " 92%|\u2588\u2588\u2588\u2588\u2588\u2588\u2588\u2588\u2588\u258f| 318/347 [1:12:18<06:09, 12.75s/it]"
                    ]
                },
                {
                    "name": "stdout",
                    "output_type": "stream",
                    "text": [
                        "Error processing /home/lippincm/4TB_A/NF1_2D_organoid_profiling_pipeline/data/NF0021/cellprofiler_middle_slice_output/G5-6/gff_extracted_features.sqlite: list index out of range\n"
                    ]
                },
                {
                    "name": "stderr",
                    "output_type": "stream",
                    "text": [
                        " 92%|\u2588\u2588\u2588\u2588\u2588\u2588\u2588\u2588\u2588\u258f| 319/347 [1:12:21<04:30,  9.67s/it]"
                    ]
                },
                {
                    "name": "stdout",
                    "output_type": "stream",
                    "text": [
                        "Error processing /home/lippincm/4TB_A/NF1_2D_organoid_profiling_pipeline/data/NF0021/cellprofiler_middle_slice_output/G5-7/gff_extracted_features.sqlite: list index out of range\n"
                    ]
                },
                {
                    "name": "stderr",
                    "output_type": "stream",
                    "text": [
                        " 92%|\u2588\u2588\u2588\u2588\u2588\u2588\u2588\u2588\u2588\u258f| 320/347 [1:12:23<03:18,  7.37s/it]"
                    ]
                },
                {
                    "name": "stdout",
                    "output_type": "stream",
                    "text": [
                        "Error processing /home/lippincm/4TB_A/NF1_2D_organoid_profiling_pipeline/data/NF0021/cellprofiler_middle_slice_output/G6-1/gff_extracted_features.sqlite: list index out of range\n"
                    ]
                },
                {
                    "name": "stderr",
                    "output_type": "stream",
                    "text": [
                        " 93%|\u2588\u2588\u2588\u2588\u2588\u2588\u2588\u2588\u2588\u258e| 323/347 [1:13:08<04:58, 12.44s/it]"
                    ]
                },
                {
                    "name": "stdout",
                    "output_type": "stream",
                    "text": [
                        "Error processing /home/lippincm/4TB_A/NF1_2D_organoid_profiling_pipeline/data/NF0021/cellprofiler_middle_slice_output/G6-4/gff_extracted_features.sqlite: list index out of range\n"
                    ]
                },
                {
                    "name": "stderr",
                    "output_type": "stream",
                    "text": [
                        " 94%|\u2588\u2588\u2588\u2588\u2588\u2588\u2588\u2588\u2588\u258d| 327/347 [1:14:18<05:18, 15.93s/it]"
                    ]
                },
                {
                    "name": "stdout",
                    "output_type": "stream",
                    "text": [
                        "Error processing /home/lippincm/4TB_A/NF1_2D_organoid_profiling_pipeline/data/NF0021/cellprofiler_middle_slice_output/G7-1/gff_extracted_features.sqlite: list index out of range\n"
                    ]
                },
                {
                    "name": "stderr",
                    "output_type": "stream",
                    "text": [
                        " 95%|\u2588\u2588\u2588\u2588\u2588\u2588\u2588\u2588\u2588\u258d| 329/347 [1:14:42<04:12, 14.01s/it]"
                    ]
                },
                {
                    "name": "stdout",
                    "output_type": "stream",
                    "text": [
                        "Error processing /home/lippincm/4TB_A/NF1_2D_organoid_profiling_pipeline/data/NF0021/cellprofiler_middle_slice_output/G7-3/gff_extracted_features.sqlite: list index out of range\n"
                    ]
                },
                {
                    "name": "stderr",
                    "output_type": "stream",
                    "text": [
                        " 95%|\u2588\u2588\u2588\u2588\u2588\u2588\u2588\u2588\u2588\u258c| 331/347 [1:15:05<03:24, 12.78s/it]"
                    ]
                },
                {
                    "name": "stdout",
                    "output_type": "stream",
                    "text": [
                        "Error processing /home/lippincm/4TB_A/NF1_2D_organoid_profiling_pipeline/data/NF0021/cellprofiler_middle_slice_output/G7-5/gff_extracted_features.sqlite: list index out of range\n"
                    ]
                },
                {
                    "name": "stderr",
                    "output_type": "stream",
                    "text": [
                        " 96%|\u2588\u2588\u2588\u2588\u2588\u2588\u2588\u2588\u2588\u258c| 332/347 [1:15:07<02:24,  9.64s/it]"
                    ]
                },
                {
                    "name": "stdout",
                    "output_type": "stream",
                    "text": [
                        "Error processing /home/lippincm/4TB_A/NF1_2D_organoid_profiling_pipeline/data/NF0021/cellprofiler_middle_slice_output/G7-6/gff_extracted_features.sqlite: list index out of range\n"
                    ]
                },
                {
                    "name": "stderr",
                    "output_type": "stream",
                    "text": [
                        " 98%|\u2588\u2588\u2588\u2588\u2588\u2588\u2588\u2588\u2588\u258a| 341/347 [1:18:10<01:54, 19.02s/it]"
                    ]
                },
                {
                    "name": "stdout",
                    "output_type": "stream",
                    "text": [
                        "Error processing /home/lippincm/4TB_A/NF1_2D_organoid_profiling_pipeline/data/NF0021/cellprofiler_middle_slice_output/G9-1/gff_extracted_features.sqlite: list index out of range\n"
                    ]
                },
                {
                    "name": "stderr",
                    "output_type": "stream",
                    "text": [
                        " 99%|\u2588\u2588\u2588\u2588\u2588\u2588\u2588\u2588\u2588\u2589| 343/347 [1:18:34<01:00, 15.20s/it]"
                    ]
                },
                {
                    "name": "stdout",
                    "output_type": "stream",
                    "text": [
                        "Error processing /home/lippincm/4TB_A/NF1_2D_organoid_profiling_pipeline/data/NF0021/cellprofiler_middle_slice_output/G9-3/gff_extracted_features.sqlite: list index out of range\n"
                    ]
                },
                {
                    "name": "stderr",
                    "output_type": "stream",
                    "text": [
                        " 99%|\u2588\u2588\u2588\u2588\u2588\u2588\u2588\u2588\u2588\u2589| 344/347 [1:18:36<00:34, 11.48s/it]"
                    ]
                },
                {
                    "name": "stdout",
                    "output_type": "stream",
                    "text": [
                        "Error processing /home/lippincm/4TB_A/NF1_2D_organoid_profiling_pipeline/data/NF0021/cellprofiler_middle_slice_output/G9-4/gff_extracted_features.sqlite: list index out of range\n"
                    ]
                },
                {
                    "name": "stderr",
                    "output_type": "stream",
                    "text": [
                        " 99%|\u2588\u2588\u2588\u2588\u2588\u2588\u2588\u2588\u2588\u2589| 345/347 [1:18:38<00:17,  8.64s/it]"
                    ]
                },
                {
                    "name": "stdout",
                    "output_type": "stream",
                    "text": [
                        "Error processing /home/lippincm/4TB_A/NF1_2D_organoid_profiling_pipeline/data/NF0021/cellprofiler_middle_slice_output/G9-5/gff_extracted_features.sqlite: list index out of range\n"
                    ]
                },
                {
                    "name": "stderr",
                    "output_type": "stream",
                    "text": [
                        "100%|\u2588\u2588\u2588\u2588\u2588\u2588\u2588\u2588\u2588\u2589| 346/347 [1:18:41<00:06,  6.78s/it]"
                    ]
                },
                {
                    "name": "stdout",
                    "output_type": "stream",
                    "text": [
                        "Error processing /home/lippincm/4TB_A/NF1_2D_organoid_profiling_pipeline/data/NF0021/cellprofiler_middle_slice_output/G9-6/gff_extracted_features.sqlite: list index out of range\n"
                    ]
                },
                {
                    "name": "stderr",
                    "output_type": "stream",
                    "text": [
                        "100%|\u2588\u2588\u2588\u2588\u2588\u2588\u2588\u2588\u2588\u2588| 347/347 [1:18:43<00:00, 13.61s/it]\n"
                    ]
                },
                {
                    "name": "stdout",
                    "output_type": "stream",
                    "text": [
                        "Error processing /home/lippincm/4TB_A/NF1_2D_organoid_profiling_pipeline/data/NF0021/cellprofiler_middle_slice_output/G9-7/gff_extracted_features.sqlite: list index out of range\n"
                    ]
                },
                {
                    "name": "stderr",
                    "output_type": "stream",
                    "text": [
                        "  0%|          | 1/347 [00:02<14:24,  2.50s/it]"
                    ]
                },
                {
                    "name": "stdout",
                    "output_type": "stream",
                    "text": [
                        "Error processing /home/lippincm/4TB_A/NF1_2D_organoid_profiling_pipeline/data/NF0021/cellprofiler_zmax_proj_output/C10-1/gff_extracted_features.sqlite: list index out of range\n"
                    ]
                },
                {
                    "name": "stderr",
                    "output_type": "stream",
                    "text": [
                        "  3%|\u258e         | 11/347 [03:33<1:53:02, 20.19s/it]"
                    ]
                },
                {
                    "name": "stdout",
                    "output_type": "stream",
                    "text": [
                        "Error processing /home/lippincm/4TB_A/NF1_2D_organoid_profiling_pipeline/data/NF0021/cellprofiler_zmax_proj_output/C11-4/gff_extracted_features.sqlite: list index out of range\n"
                    ]
                },
                {
                    "name": "stderr",
                    "output_type": "stream",
                    "text": [
                        "  4%|\u258d         | 14/347 [04:26<1:39:20, 17.90s/it]"
                    ]
                },
                {
                    "name": "stdout",
                    "output_type": "stream",
                    "text": [
                        "Error processing /home/lippincm/4TB_A/NF1_2D_organoid_profiling_pipeline/data/NF0021/cellprofiler_zmax_proj_output/C11-7/gff_extracted_features.sqlite: list index out of range\n"
                    ]
                },
                {
                    "name": "stderr",
                    "output_type": "stream",
                    "text": [
                        "  5%|\u258d         | 17/347 [05:12<1:29:04, 16.20s/it]"
                    ]
                },
                {
                    "name": "stdout",
                    "output_type": "stream",
                    "text": [
                        "Error processing /home/lippincm/4TB_A/NF1_2D_organoid_profiling_pipeline/data/NF0021/cellprofiler_zmax_proj_output/C2-3/gff_extracted_features.sqlite: list index out of range\n"
                    ]
                },
                {
                    "name": "stderr",
                    "output_type": "stream",
                    "text": [
                        "  5%|\u258c         | 19/347 [05:37<1:18:33, 14.37s/it]"
                    ]
                },
                {
                    "name": "stdout",
                    "output_type": "stream",
                    "text": [
                        "Error processing /home/lippincm/4TB_A/NF1_2D_organoid_profiling_pipeline/data/NF0021/cellprofiler_zmax_proj_output/C2-5/gff_extracted_features.sqlite: list index out of range\n"
                    ]
                },
                {
                    "name": "stderr",
                    "output_type": "stream",
                    "text": [
                        "  6%|\u258c         | 21/347 [06:02<1:11:47, 13.21s/it]"
                    ]
                },
                {
                    "name": "stdout",
                    "output_type": "stream",
                    "text": [
                        "Error processing /home/lippincm/4TB_A/NF1_2D_organoid_profiling_pipeline/data/NF0021/cellprofiler_zmax_proj_output/C2-7/gff_extracted_features.sqlite: list index out of range\n"
                    ]
                },
                {
                    "name": "stderr",
                    "output_type": "stream",
                    "text": [
                        "  6%|\u258b         | 22/347 [06:05<54:53, 10.13s/it]  "
                    ]
                },
                {
                    "name": "stdout",
                    "output_type": "stream",
                    "text": [
                        "Error processing /home/lippincm/4TB_A/NF1_2D_organoid_profiling_pipeline/data/NF0021/cellprofiler_zmax_proj_output/C3-1/gff_extracted_features.sqlite: list index out of range\n"
                    ]
                },
                {
                    "name": "stderr",
                    "output_type": "stream",
                    "text": [
                        "  7%|\u258b         | 23/347 [06:08<42:31,  7.87s/it]"
                    ]
                },
                {
                    "name": "stdout",
                    "output_type": "stream",
                    "text": [
                        "Error processing /home/lippincm/4TB_A/NF1_2D_organoid_profiling_pipeline/data/NF0021/cellprofiler_zmax_proj_output/C3-2/gff_extracted_features.sqlite: list index out of range\n"
                    ]
                },
                {
                    "name": "stderr",
                    "output_type": "stream",
                    "text": [
                        "  8%|\u258a         | 27/347 [07:16<1:18:20, 14.69s/it]"
                    ]
                },
                {
                    "name": "stdout",
                    "output_type": "stream",
                    "text": [
                        "Error processing /home/lippincm/4TB_A/NF1_2D_organoid_profiling_pipeline/data/NF0021/cellprofiler_zmax_proj_output/C3-7/gff_extracted_features.sqlite: list index out of range\n"
                    ]
                },
                {
                    "name": "stderr",
                    "output_type": "stream",
                    "text": [
                        " 14%|\u2588\u258d        | 50/347 [15:53<1:42:15, 20.66s/it]"
                    ]
                },
                {
                    "name": "stdout",
                    "output_type": "stream",
                    "text": [
                        "Error processing /home/lippincm/4TB_A/NF1_2D_organoid_profiling_pipeline/data/NF0021/cellprofiler_zmax_proj_output/C7-2/gff_extracted_features.sqlite: list index out of range\n"
                    ]
                },
                {
                    "name": "stderr",
                    "output_type": "stream",
                    "text": [
                        " 15%|\u2588\u258d        | 51/347 [15:57<1:17:16, 15.66s/it]"
                    ]
                },
                {
                    "name": "stdout",
                    "output_type": "stream",
                    "text": [
                        "Error processing /home/lippincm/4TB_A/NF1_2D_organoid_profiling_pipeline/data/NF0021/cellprofiler_zmax_proj_output/C7-3/gff_extracted_features.sqlite: list index out of range\n"
                    ]
                },
                {
                    "name": "stderr",
                    "output_type": "stream",
                    "text": [
                        " 15%|\u2588\u258d        | 52/347 [16:00<58:24, 11.88s/it]  "
                    ]
                },
                {
                    "name": "stdout",
                    "output_type": "stream",
                    "text": [
                        "Error processing /home/lippincm/4TB_A/NF1_2D_organoid_profiling_pipeline/data/NF0021/cellprofiler_zmax_proj_output/C7-4/gff_extracted_features.sqlite: list index out of range\n"
                    ]
                },
                {
                    "name": "stderr",
                    "output_type": "stream",
                    "text": [
                        " 15%|\u2588\u258c        | 53/347 [16:02<44:05,  9.00s/it]"
                    ]
                },
                {
                    "name": "stdout",
                    "output_type": "stream",
                    "text": [
                        "Error processing /home/lippincm/4TB_A/NF1_2D_organoid_profiling_pipeline/data/NF0021/cellprofiler_zmax_proj_output/C7-5/gff_extracted_features.sqlite: list index out of range\n"
                    ]
                },
                {
                    "name": "stderr",
                    "output_type": "stream",
                    "text": [
                        " 16%|\u2588\u258c        | 54/347 [16:05<34:49,  7.13s/it]"
                    ]
                },
                {
                    "name": "stdout",
                    "output_type": "stream",
                    "text": [
                        "Error processing /home/lippincm/4TB_A/NF1_2D_organoid_profiling_pipeline/data/NF0021/cellprofiler_zmax_proj_output/C7-6/gff_extracted_features.sqlite: list index out of range\n"
                    ]
                },
                {
                    "name": "stderr",
                    "output_type": "stream",
                    "text": [
                        " 16%|\u2588\u258c        | 56/347 [16:28<45:37,  9.41s/it]"
                    ]
                },
                {
                    "name": "stdout",
                    "output_type": "stream",
                    "text": [
                        "Error processing /home/lippincm/4TB_A/NF1_2D_organoid_profiling_pipeline/data/NF0021/cellprofiler_zmax_proj_output/C8-1/gff_extracted_features.sqlite: list index out of range\n"
                    ]
                },
                {
                    "name": "stderr",
                    "output_type": "stream",
                    "text": [
                        " 22%|\u2588\u2588\u258f       | 75/347 [24:04<1:38:11, 21.66s/it]"
                    ]
                },
                {
                    "name": "stdout",
                    "output_type": "stream",
                    "text": [
                        "Error processing /home/lippincm/4TB_A/NF1_2D_organoid_profiling_pipeline/data/NF0021/cellprofiler_zmax_proj_output/D10-6/gff_extracted_features.sqlite: list index out of range\n"
                    ]
                },
                {
                    "name": "stderr",
                    "output_type": "stream",
                    "text": [
                        " 24%|\u2588\u2588\u258d       | 83/347 [27:05<1:33:42, 21.30s/it]"
                    ]
                },
                {
                    "name": "stdout",
                    "output_type": "stream",
                    "text": [
                        "Error processing /home/lippincm/4TB_A/NF1_2D_organoid_profiling_pipeline/data/NF0021/cellprofiler_zmax_proj_output/D11-7/gff_extracted_features.sqlite: list index out of range\n"
                    ]
                },
                {
                    "name": "stderr",
                    "output_type": "stream",
                    "text": [
                        " 25%|\u2588\u2588\u258c       | 87/347 [28:24<1:25:38, 19.76s/it]"
                    ]
                },
                {
                    "name": "stdout",
                    "output_type": "stream",
                    "text": [
                        "Error processing /home/lippincm/4TB_A/NF1_2D_organoid_profiling_pipeline/data/NF0021/cellprofiler_zmax_proj_output/D2-4/gff_extracted_features.sqlite: list index out of range\n"
                    ]
                },
                {
                    "name": "stderr",
                    "output_type": "stream",
                    "text": [
                        " 26%|\u2588\u2588\u258c       | 91/347 [29:42<1:21:34, 19.12s/it]"
                    ]
                },
                {
                    "name": "stdout",
                    "output_type": "stream",
                    "text": [
                        "Error processing /home/lippincm/4TB_A/NF1_2D_organoid_profiling_pipeline/data/NF0021/cellprofiler_zmax_proj_output/D3-1/gff_extracted_features.sqlite: list index out of range\n"
                    ]
                },
                {
                    "name": "stderr",
                    "output_type": "stream",
                    "text": [
                        " 28%|\u2588\u2588\u258a       | 97/347 [31:49<1:22:35, 19.82s/it]"
                    ]
                },
                {
                    "name": "stdout",
                    "output_type": "stream",
                    "text": [
                        "Error processing /home/lippincm/4TB_A/NF1_2D_organoid_profiling_pipeline/data/NF0021/cellprofiler_zmax_proj_output/D3-7/gff_extracted_features.sqlite: list index out of range\n"
                    ]
                },
                {
                    "name": "stderr",
                    "output_type": "stream",
                    "text": [
                        " 29%|\u2588\u2588\u2589       | 102/347 [33:30<1:19:53, 19.57s/it]"
                    ]
                },
                {
                    "name": "stdout",
                    "output_type": "stream",
                    "text": [
                        "Error processing /home/lippincm/4TB_A/NF1_2D_organoid_profiling_pipeline/data/NF0021/cellprofiler_zmax_proj_output/D4-5/gff_extracted_features.sqlite: list index out of range\n"
                    ]
                },
                {
                    "name": "stderr",
                    "output_type": "stream",
                    "text": [
                        " 35%|\u2588\u2588\u2588\u258d      | 120/347 [40:36<1:20:27, 21.27s/it]"
                    ]
                },
                {
                    "name": "stdout",
                    "output_type": "stream",
                    "text": [
                        "Error processing /home/lippincm/4TB_A/NF1_2D_organoid_profiling_pipeline/data/NF0021/cellprofiler_zmax_proj_output/D7-2/gff_extracted_features.sqlite: list index out of range\n"
                    ]
                },
                {
                    "name": "stderr",
                    "output_type": "stream",
                    "text": [
                        " 35%|\u2588\u2588\u2588\u258d      | 121/347 [40:39<59:58, 15.92s/it]  "
                    ]
                },
                {
                    "name": "stdout",
                    "output_type": "stream",
                    "text": [
                        "Error processing /home/lippincm/4TB_A/NF1_2D_organoid_profiling_pipeline/data/NF0021/cellprofiler_zmax_proj_output/D7-3/gff_extracted_features.sqlite: list index out of range\n"
                    ]
                },
                {
                    "name": "stderr",
                    "output_type": "stream",
                    "text": [
                        " 35%|\u2588\u2588\u2588\u258c      | 123/347 [41:08<56:11, 15.05s/it]"
                    ]
                },
                {
                    "name": "stdout",
                    "output_type": "stream",
                    "text": [
                        "Error processing /home/lippincm/4TB_A/NF1_2D_organoid_profiling_pipeline/data/NF0021/cellprofiler_zmax_proj_output/D7-6/gff_extracted_features.sqlite: list index out of range\n"
                    ]
                },
                {
                    "name": "stderr",
                    "output_type": "stream",
                    "text": [
                        " 36%|\u2588\u2588\u2588\u258c      | 124/347 [41:11<42:40, 11.48s/it]"
                    ]
                },
                {
                    "name": "stdout",
                    "output_type": "stream",
                    "text": [
                        "Error processing /home/lippincm/4TB_A/NF1_2D_organoid_profiling_pipeline/data/NF0021/cellprofiler_zmax_proj_output/D7-7/gff_extracted_features.sqlite: list index out of range\n"
                    ]
                },
                {
                    "name": "stderr",
                    "output_type": "stream",
                    "text": [
                        " 40%|\u2588\u2588\u2588\u2588      | 140/347 [47:28<1:12:13, 20.93s/it]"
                    ]
                },
                {
                    "name": "stdout",
                    "output_type": "stream",
                    "text": [
                        "Error processing /home/lippincm/4TB_A/NF1_2D_organoid_profiling_pipeline/data/NF0021/cellprofiler_zmax_proj_output/E10-3/gff_extracted_features.sqlite: list index out of range\n"
                    ]
                },
                {
                    "name": "stderr",
                    "output_type": "stream",
                    "text": [
                        " 41%|\u2588\u2588\u2588\u2588\u258f     | 144/347 [48:49<1:07:09, 19.85s/it]"
                    ]
                },
                {
                    "name": "stdout",
                    "output_type": "stream",
                    "text": [
                        "Error processing /home/lippincm/4TB_A/NF1_2D_organoid_profiling_pipeline/data/NF0021/cellprofiler_zmax_proj_output/E10-7/gff_extracted_features.sqlite: list index out of range\n"
                    ]
                },
                {
                    "name": "stderr",
                    "output_type": "stream",
                    "text": [
                        " 42%|\u2588\u2588\u2588\u2588\u258f     | 145/347 [48:52<50:27, 14.99s/it]  "
                    ]
                },
                {
                    "name": "stdout",
                    "output_type": "stream",
                    "text": [
                        "Error processing /home/lippincm/4TB_A/NF1_2D_organoid_profiling_pipeline/data/NF0021/cellprofiler_zmax_proj_output/E11-1/gff_extracted_features.sqlite: list index out of range\n"
                    ]
                },
                {
                    "name": "stderr",
                    "output_type": "stream",
                    "text": [
                        " 43%|\u2588\u2588\u2588\u2588\u258e     | 148/347 [49:46<54:51, 16.54s/it]  "
                    ]
                },
                {
                    "name": "stdout",
                    "output_type": "stream",
                    "text": [
                        "Error processing /home/lippincm/4TB_A/NF1_2D_organoid_profiling_pipeline/data/NF0021/cellprofiler_zmax_proj_output/E11-4/gff_extracted_features.sqlite: list index out of range\n"
                    ]
                },
                {
                    "name": "stderr",
                    "output_type": "stream",
                    "text": [
                        " 43%|\u2588\u2588\u2588\u2588\u258e     | 150/347 [50:14<50:08, 15.27s/it]"
                    ]
                },
                {
                    "name": "stdout",
                    "output_type": "stream",
                    "text": [
                        "Error processing /home/lippincm/4TB_A/NF1_2D_organoid_profiling_pipeline/data/NF0021/cellprofiler_zmax_proj_output/E11-6/gff_extracted_features.sqlite: list index out of range\n"
                    ]
                },
                {
                    "name": "stderr",
                    "output_type": "stream",
                    "text": [
                        " 46%|\u2588\u2588\u2588\u2588\u258c     | 159/347 [53:35<1:04:47, 20.68s/it]"
                    ]
                },
                {
                    "name": "stdout",
                    "output_type": "stream",
                    "text": [
                        "Error processing /home/lippincm/4TB_A/NF1_2D_organoid_profiling_pipeline/data/NF0021/cellprofiler_zmax_proj_output/E3-1/gff_extracted_features.sqlite: list index out of range\n"
                    ]
                },
                {
                    "name": "stderr",
                    "output_type": "stream",
                    "text": [
                        " 48%|\u2588\u2588\u2588\u2588\u258a     | 168/347 [57:02<1:04:00, 21.45s/it]"
                    ]
                },
                {
                    "name": "stdout",
                    "output_type": "stream",
                    "text": [
                        "Error processing /home/lippincm/4TB_A/NF1_2D_organoid_profiling_pipeline/data/NF0021/cellprofiler_zmax_proj_output/E4-3/gff_extracted_features.sqlite: list index out of range\n"
                    ]
                },
                {
                    "name": "stderr",
                    "output_type": "stream",
                    "text": [
                        " 52%|\u2588\u2588\u2588\u2588\u2588\u258f    | 179/347 [1:01:02<51:05, 18.25s/it]  "
                    ]
                },
                {
                    "name": "stdout",
                    "output_type": "stream",
                    "text": [
                        "Error processing /home/lippincm/4TB_A/NF1_2D_organoid_profiling_pipeline/data/NF0021/cellprofiler_zmax_proj_output/E5-7/gff_extracted_features.sqlite: list index out of range\n"
                    ]
                },
                {
                    "name": "stderr",
                    "output_type": "stream",
                    "text": [
                        " 54%|\u2588\u2588\u2588\u2588\u2588\u258d    | 189/347 [1:03:35<36:44, 13.95s/it]"
                    ]
                },
                {
                    "name": "stdout",
                    "output_type": "stream",
                    "text": [
                        "Error processing /home/lippincm/4TB_A/NF1_2D_organoid_profiling_pipeline/data/NF0021/cellprofiler_zmax_proj_output/E7-3/gff_extracted_features.sqlite: list index out of range\n"
                    ]
                },
                {
                    "name": "stderr",
                    "output_type": "stream",
                    "text": [
                        " 61%|\u2588\u2588\u2588\u2588\u2588\u2588    | 212/347 [1:11:55<49:53, 22.17s/it]"
                    ]
                },
                {
                    "name": "stdout",
                    "output_type": "stream",
                    "text": [
                        "Error processing /home/lippincm/4TB_A/NF1_2D_organoid_profiling_pipeline/data/NF0021/cellprofiler_zmax_proj_output/F10-5/gff_extracted_features.sqlite: list index out of range\n"
                    ]
                },
                {
                    "name": "stderr",
                    "output_type": "stream",
                    "text": [
                        " 65%|\u2588\u2588\u2588\u2588\u2588\u2588\u258c   | 226/347 [1:17:44<45:38, 22.64s/it]"
                    ]
                },
                {
                    "name": "stdout",
                    "output_type": "stream",
                    "text": [
                        "Error processing /home/lippincm/4TB_A/NF1_2D_organoid_profiling_pipeline/data/NF0021/cellprofiler_zmax_proj_output/F2-5/gff_extracted_features.sqlite: list index out of range\n"
                    ]
                },
                {
                    "name": "stderr",
                    "output_type": "stream",
                    "text": [
                        " 66%|\u2588\u2588\u2588\u2588\u2588\u2588\u258c   | 228/347 [1:18:13<36:01, 18.16s/it]"
                    ]
                },
                {
                    "name": "stdout",
                    "output_type": "stream",
                    "text": [
                        "Error processing /home/lippincm/4TB_A/NF1_2D_organoid_profiling_pipeline/data/NF0021/cellprofiler_zmax_proj_output/F2-7/gff_extracted_features.sqlite: list index out of range\n"
                    ]
                },
                {
                    "name": "stderr",
                    "output_type": "stream",
                    "text": [
                        " 66%|\u2588\u2588\u2588\u2588\u2588\u2588\u258c   | 229/347 [1:18:16<27:06, 13.79s/it]"
                    ]
                },
                {
                    "name": "stdout",
                    "output_type": "stream",
                    "text": [
                        "Error processing /home/lippincm/4TB_A/NF1_2D_organoid_profiling_pipeline/data/NF0021/cellprofiler_zmax_proj_output/F3-1/gff_extracted_features.sqlite: list index out of range\n"
                    ]
                },
                {
                    "name": "stderr",
                    "output_type": "stream",
                    "text": [
                        " 66%|\u2588\u2588\u2588\u2588\u2588\u2588\u258b   | 230/347 [1:18:22<22:05, 11.33s/it]"
                    ]
                },
                {
                    "name": "stdout",
                    "output_type": "stream",
                    "text": [
                        "Error processing /home/lippincm/4TB_A/NF1_2D_organoid_profiling_pipeline/data/NF0021/cellprofiler_zmax_proj_output/F3-2/gff_extracted_features.sqlite: list index out of range\n"
                    ]
                },
                {
                    "name": "stderr",
                    "output_type": "stream",
                    "text": [
                        " 67%|\u2588\u2588\u2588\u2588\u2588\u2588\u258b   | 233/347 [1:19:19<30:27, 16.03s/it]"
                    ]
                },
                {
                    "name": "stdout",
                    "output_type": "stream",
                    "text": [
                        "Error processing /home/lippincm/4TB_A/NF1_2D_organoid_profiling_pipeline/data/NF0021/cellprofiler_zmax_proj_output/F3-5/gff_extracted_features.sqlite: list index out of range\n"
                    ]
                },
                {
                    "name": "stderr",
                    "output_type": "stream",
                    "text": [
                        " 68%|\u2588\u2588\u2588\u2588\u2588\u2588\u258a   | 235/347 [1:19:50<29:03, 15.57s/it]"
                    ]
                },
                {
                    "name": "stdout",
                    "output_type": "stream",
                    "text": [
                        "Error processing /home/lippincm/4TB_A/NF1_2D_organoid_profiling_pipeline/data/NF0021/cellprofiler_zmax_proj_output/F3-7/gff_extracted_features.sqlite: list index out of range\n"
                    ]
                },
                {
                    "name": "stderr",
                    "output_type": "stream",
                    "text": [
                        " 69%|\u2588\u2588\u2588\u2588\u2588\u2588\u258a   | 238/347 [1:20:48<32:01, 17.63s/it]"
                    ]
                },
                {
                    "name": "stdout",
                    "output_type": "stream",
                    "text": [
                        "Error processing /home/lippincm/4TB_A/NF1_2D_organoid_profiling_pipeline/data/NF0021/cellprofiler_zmax_proj_output/F4-3/gff_extracted_features.sqlite: list index out of range\n"
                    ]
                },
                {
                    "name": "stderr",
                    "output_type": "stream",
                    "text": [
                        " 70%|\u2588\u2588\u2588\u2588\u2588\u2588\u2589   | 242/347 [1:22:13<34:42, 19.83s/it]"
                    ]
                },
                {
                    "name": "stdout",
                    "output_type": "stream",
                    "text": [
                        "Error processing /home/lippincm/4TB_A/NF1_2D_organoid_profiling_pipeline/data/NF0021/cellprofiler_zmax_proj_output/F4-7/gff_extracted_features.sqlite: list index out of range\n"
                    ]
                },
                {
                    "name": "stderr",
                    "output_type": "stream",
                    "text": [
                        " 71%|\u2588\u2588\u2588\u2588\u2588\u2588\u2588   | 247/347 [1:24:05<35:18, 21.19s/it]"
                    ]
                },
                {
                    "name": "stdout",
                    "output_type": "stream",
                    "text": [
                        "Error processing /home/lippincm/4TB_A/NF1_2D_organoid_profiling_pipeline/data/NF0021/cellprofiler_zmax_proj_output/F5-5/gff_extracted_features.sqlite: list index out of range\n"
                    ]
                },
                {
                    "name": "stderr",
                    "output_type": "stream",
                    "text": [
                        " 73%|\u2588\u2588\u2588\u2588\u2588\u2588\u2588\u258e  | 253/347 [1:26:25<34:06, 21.77s/it]"
                    ]
                },
                {
                    "name": "stdout",
                    "output_type": "stream",
                    "text": [
                        "Error processing /home/lippincm/4TB_A/NF1_2D_organoid_profiling_pipeline/data/NF0021/cellprofiler_zmax_proj_output/F6-4/gff_extracted_features.sqlite: list index out of range\n"
                    ]
                },
                {
                    "name": "stderr",
                    "output_type": "stream",
                    "text": [
                        " 76%|\u2588\u2588\u2588\u2588\u2588\u2588\u2588\u258b  | 265/347 [1:31:28<31:15, 22.88s/it]"
                    ]
                },
                {
                    "name": "stdout",
                    "output_type": "stream",
                    "text": [
                        "Error processing /home/lippincm/4TB_A/NF1_2D_organoid_profiling_pipeline/data/NF0021/cellprofiler_zmax_proj_output/F8-2/gff_extracted_features.sqlite: list index out of range\n"
                    ]
                },
                {
                    "name": "stderr",
                    "output_type": "stream",
                    "text": [
                        " 78%|\u2588\u2588\u2588\u2588\u2588\u2588\u2588\u258a  | 270/347 [1:33:24<28:27, 22.17s/it]"
                    ]
                },
                {
                    "name": "stdout",
                    "output_type": "stream",
                    "text": [
                        "Error processing /home/lippincm/4TB_A/NF1_2D_organoid_profiling_pipeline/data/NF0021/cellprofiler_zmax_proj_output/F8-7/gff_extracted_features.sqlite: list index out of range\n"
                    ]
                },
                {
                    "name": "stderr",
                    "output_type": "stream",
                    "text": [
                        " 78%|\u2588\u2588\u2588\u2588\u2588\u2588\u2588\u258a  | 272/347 [1:33:54<23:02, 18.44s/it]"
                    ]
                },
                {
                    "name": "stdout",
                    "output_type": "stream",
                    "text": [
                        "Error processing /home/lippincm/4TB_A/NF1_2D_organoid_profiling_pipeline/data/NF0021/cellprofiler_zmax_proj_output/F9-2/gff_extracted_features.sqlite: list index out of range\n"
                    ]
                },
                {
                    "name": "stderr",
                    "output_type": "stream",
                    "text": [
                        " 80%|\u2588\u2588\u2588\u2588\u2588\u2588\u2588\u2589  | 276/347 [1:35:17<23:02, 19.47s/it]"
                    ]
                },
                {
                    "name": "stdout",
                    "output_type": "stream",
                    "text": [
                        "Error processing /home/lippincm/4TB_A/NF1_2D_organoid_profiling_pipeline/data/NF0021/cellprofiler_zmax_proj_output/F9-6/gff_extracted_features.sqlite: list index out of range\n"
                    ]
                },
                {
                    "name": "stderr",
                    "output_type": "stream",
                    "text": [
                        " 81%|\u2588\u2588\u2588\u2588\u2588\u2588\u2588\u2588\u258f | 282/347 [1:37:40<23:46, 21.95s/it]"
                    ]
                },
                {
                    "name": "stdout",
                    "output_type": "stream",
                    "text": [
                        "Error processing /home/lippincm/4TB_A/NF1_2D_organoid_profiling_pipeline/data/NF0021/cellprofiler_zmax_proj_output/G10-5/gff_extracted_features.sqlite: list index out of range\n"
                    ]
                },
                {
                    "name": "stderr",
                    "output_type": "stream",
                    "text": [
                        " 83%|\u2588\u2588\u2588\u2588\u2588\u2588\u2588\u2588\u258e | 287/347 [1:39:33<21:38, 21.65s/it]"
                    ]
                },
                {
                    "name": "stdout",
                    "output_type": "stream",
                    "text": [
                        "Error processing /home/lippincm/4TB_A/NF1_2D_organoid_profiling_pipeline/data/NF0021/cellprofiler_zmax_proj_output/G11-3/gff_extracted_features.sqlite: list index out of range\n"
                    ]
                },
                {
                    "name": "stderr",
                    "output_type": "stream",
                    "text": [
                        " 83%|\u2588\u2588\u2588\u2588\u2588\u2588\u2588\u2588\u258e | 289/347 [1:40:05<17:52, 18.49s/it]"
                    ]
                },
                {
                    "name": "stdout",
                    "output_type": "stream",
                    "text": [
                        "Error processing /home/lippincm/4TB_A/NF1_2D_organoid_profiling_pipeline/data/NF0021/cellprofiler_zmax_proj_output/G11-5/gff_extracted_features.sqlite: list index out of range\n"
                    ]
                },
                {
                    "name": "stderr",
                    "output_type": "stream",
                    "text": [
                        " 85%|\u2588\u2588\u2588\u2588\u2588\u2588\u2588\u2588\u258c | 295/347 [1:42:27<18:46, 21.66s/it]"
                    ]
                },
                {
                    "name": "stdout",
                    "output_type": "stream",
                    "text": [
                        "Error processing /home/lippincm/4TB_A/NF1_2D_organoid_profiling_pipeline/data/NF0021/cellprofiler_zmax_proj_output/G2-4/gff_extracted_features.sqlite: list index out of range\n"
                    ]
                },
                {
                    "name": "stderr",
                    "output_type": "stream",
                    "text": [
                        " 86%|\u2588\u2588\u2588\u2588\u2588\u2588\u2588\u2588\u258c | 298/347 [1:43:27<16:22, 20.04s/it]"
                    ]
                },
                {
                    "name": "stdout",
                    "output_type": "stream",
                    "text": [
                        "Error processing /home/lippincm/4TB_A/NF1_2D_organoid_profiling_pipeline/data/NF0021/cellprofiler_zmax_proj_output/G2-7/gff_extracted_features.sqlite: list index out of range\n"
                    ]
                },
                {
                    "name": "stderr",
                    "output_type": "stream",
                    "text": [
                        " 86%|\u2588\u2588\u2588\u2588\u2588\u2588\u2588\u2588\u258c | 299/347 [1:43:32<12:21, 15.44s/it]"
                    ]
                },
                {
                    "name": "stdout",
                    "output_type": "stream",
                    "text": [
                        "Error processing /home/lippincm/4TB_A/NF1_2D_organoid_profiling_pipeline/data/NF0021/cellprofiler_zmax_proj_output/G3-1/gff_extracted_features.sqlite: list index out of range\n"
                    ]
                },
                {
                    "name": "stderr",
                    "output_type": "stream",
                    "text": [
                        " 88%|\u2588\u2588\u2588\u2588\u2588\u2588\u2588\u2588\u258a | 305/347 [1:45:55<14:56, 21.35s/it]"
                    ]
                },
                {
                    "name": "stdout",
                    "output_type": "stream",
                    "text": [
                        "Error processing /home/lippincm/4TB_A/NF1_2D_organoid_profiling_pipeline/data/NF0021/cellprofiler_zmax_proj_output/G3-7/gff_extracted_features.sqlite: list index out of range\n"
                    ]
                },
                {
                    "name": "stderr",
                    "output_type": "stream",
                    "text": [
                        " 88%|\u2588\u2588\u2588\u2588\u2588\u2588\u2588\u2588\u258a | 306/347 [1:45:59<11:06, 16.25s/it]"
                    ]
                },
                {
                    "name": "stdout",
                    "output_type": "stream",
                    "text": [
                        "Error processing /home/lippincm/4TB_A/NF1_2D_organoid_profiling_pipeline/data/NF0021/cellprofiler_zmax_proj_output/G4-1/gff_extracted_features.sqlite: list index out of range\n"
                    ]
                },
                {
                    "name": "stderr",
                    "output_type": "stream",
                    "text": [
                        " 90%|\u2588\u2588\u2588\u2588\u2588\u2588\u2588\u2588\u2589 | 312/347 [1:48:21<12:30, 21.45s/it]"
                    ]
                },
                {
                    "name": "stdout",
                    "output_type": "stream",
                    "text": [
                        "Error processing /home/lippincm/4TB_A/NF1_2D_organoid_profiling_pipeline/data/NF0021/cellprofiler_zmax_proj_output/G4-7/gff_extracted_features.sqlite: list index out of range\n"
                    ]
                },
                {
                    "name": "stderr",
                    "output_type": "stream",
                    "text": [
                        " 90%|\u2588\u2588\u2588\u2588\u2588\u2588\u2588\u2588\u2588 | 314/347 [1:48:53<10:02, 18.26s/it]"
                    ]
                },
                {
                    "name": "stdout",
                    "output_type": "stream",
                    "text": [
                        "Error processing /home/lippincm/4TB_A/NF1_2D_organoid_profiling_pipeline/data/NF0021/cellprofiler_zmax_proj_output/G5-2/gff_extracted_features.sqlite: list index out of range\n"
                    ]
                },
                {
                    "name": "stderr",
                    "output_type": "stream",
                    "text": [
                        " 92%|\u2588\u2588\u2588\u2588\u2588\u2588\u2588\u2588\u2588\u258f| 319/347 [1:50:46<09:45, 20.92s/it]"
                    ]
                },
                {
                    "name": "stdout",
                    "output_type": "stream",
                    "text": [
                        "Error processing /home/lippincm/4TB_A/NF1_2D_organoid_profiling_pipeline/data/NF0021/cellprofiler_zmax_proj_output/G5-7/gff_extracted_features.sqlite: list index out of range\n"
                    ]
                },
                {
                    "name": "stderr",
                    "output_type": "stream",
                    "text": [
                        " 95%|\u2588\u2588\u2588\u2588\u2588\u2588\u2588\u2588\u2588\u258d| 329/347 [1:54:59<06:55, 23.07s/it]"
                    ]
                },
                {
                    "name": "stdout",
                    "output_type": "stream",
                    "text": [
                        "Error processing /home/lippincm/4TB_A/NF1_2D_organoid_profiling_pipeline/data/NF0021/cellprofiler_zmax_proj_output/G7-3/gff_extracted_features.sqlite: list index out of range\n"
                    ]
                },
                {
                    "name": "stderr",
                    "output_type": "stream",
                    "text": [
                        " 95%|\u2588\u2588\u2588\u2588\u2588\u2588\u2588\u2588\u2588\u258c| 331/347 [1:55:31<05:05, 19.12s/it]"
                    ]
                },
                {
                    "name": "stdout",
                    "output_type": "stream",
                    "text": [
                        "Error processing /home/lippincm/4TB_A/NF1_2D_organoid_profiling_pipeline/data/NF0021/cellprofiler_zmax_proj_output/G7-5/gff_extracted_features.sqlite: list index out of range\n"
                    ]
                },
                {
                    "name": "stderr",
                    "output_type": "stream",
                    "text": [
                        " 96%|\u2588\u2588\u2588\u2588\u2588\u2588\u2588\u2588\u2588\u258c| 332/347 [1:55:35<03:39, 14.60s/it]"
                    ]
                },
                {
                    "name": "stdout",
                    "output_type": "stream",
                    "text": [
                        "Error processing /home/lippincm/4TB_A/NF1_2D_organoid_profiling_pipeline/data/NF0021/cellprofiler_zmax_proj_output/G7-6/gff_extracted_features.sqlite: list index out of range\n"
                    ]
                },
                {
                    "name": "stderr",
                    "output_type": "stream",
                    "text": [
                        " 99%|\u2588\u2588\u2588\u2588\u2588\u2588\u2588\u2588\u2588\u2589| 344/347 [2:01:16<01:14, 24.84s/it]"
                    ]
                },
                {
                    "name": "stdout",
                    "output_type": "stream",
                    "text": [
                        "Error processing /home/lippincm/4TB_A/NF1_2D_organoid_profiling_pipeline/data/NF0021/cellprofiler_zmax_proj_output/G9-4/gff_extracted_features.sqlite: list index out of range\n"
                    ]
                },
                {
                    "name": "stderr",
                    "output_type": "stream",
                    "text": [
                        "100%|\u2588\u2588\u2588\u2588\u2588\u2588\u2588\u2588\u2588\u2588| 347/347 [2:02:17<00:00, 21.15s/it]"
                    ]
                },
                {
                    "name": "stdout",
                    "output_type": "stream",
                    "text": [
                        "Error processing /home/lippincm/4TB_A/NF1_2D_organoid_profiling_pipeline/data/NF0021/cellprofiler_zmax_proj_output/G9-7/gff_extracted_features.sqlite: list index out of range\n",
                        "Total files processed: 694\n",
                        "Total errors encountered: 166\n"
                    ]
                },
                {
                    "name": "stderr",
                    "output_type": "stream",
                    "text": [
                        "\n"
                    ]
                }
            ],
            "source": [
                "total = 0\n",
                "errors = 0\n",
                "# loop through the middle and zmax projected sqlite files\n",
                "for featurization_type in well_fov_dict.keys():\n",
                "    for well_fov, file_info in tqdm.tqdm(well_fov_dict[featurization_type].items()):\n",
                "        sqlite_file = file_info[\"image_path\"]\n",
                "        total += 1\n",
                "        # convert the sqlite file to a single cell parquet file\n",
                "        try:\n",
                "            df = convert(\n",
                "                sqlite_file,\n",
                "                preset=preset,\n",
                "                joins=joins,\n",
                "                chunk_size=500,\n",
                "                dest_datatype=dest_datatype,\n",
                "                dest_path=f\"{well_fov_dict[featurization_type][well_fov]['output_dir']}_sc.parquet\",\n",
                "                parsl_config=Config(\n",
                "                    executors=[HighThroughputExecutor()],\n",
                "                    run_dir=f\"cytotable_runinfo/{uuid.uuid4().hex}\",\n",
                "                ),\n",
                "            )\n",
                "            output_dict_of_dfs[featurization_type][\"df_list\"].append(\n",
                "                f\"{well_fov_dict[featurization_type][well_fov]['output_dir']}_sc.parquet\"\n",
                "            )\n",
                "        except Exception as e:\n",
                "            errors += 1\n",
                "            print(f\"Error processing {sqlite_file}: {e}\")\n",
                "            continue\n",
                "print(f\"Total files processed: {total}\")\n",
                "print(f\"Total errors encountered: {errors}\")"
            ]
        },
        {
            "cell_type": "code",
            "execution_count": 6,
            "metadata": {},
            "outputs": [
                {
                    "name": "stdout",
                    "output_type": "stream",
                    "text": [
                        "Concatenating 246 dataframes for middle_slice\n",
                        "Saved middle_slice data to 1441 rows in 2910 columns\n",
                        "Concatenating 282 dataframes for zmax_proj\n",
                        "Saved zmax_proj data to 2775 rows in 2910 columns\n"
                    ]
                }
            ],
            "source": [
                "# read in the dataframes and concatenate them in place\n",
                "for featurization_type in output_dict_of_dfs.keys():\n",
                "    print(\n",
                "        f\"Concatenating {len(output_dict_of_dfs[featurization_type]['df_list'])} dataframes for {featurization_type}\"\n",
                "    )\n",
                "    df_list = [\n",
                "        pd.read_parquet(df) for df in output_dict_of_dfs[featurization_type][\"df_list\"]\n",
                "    ]\n",
                "    output_dict_of_dfs[featurization_type][\"df\"] = pd.concat(df_list, ignore_index=True)\n",
                "    # Define the list of columns to prioritize and prefix\n",
                "    prioritized_columns = [\n",
                "        \"Nuclei_Location_Center_X\",\n",
                "        \"Nuclei_Location_Center_Y\",\n",
                "        \"Cells_Location_Center_X\",\n",
                "        \"Cells_Location_Center_Y\",\n",
                "        \"Image_Count_Cells\",\n",
                "    ]\n",
                "\n",
                "    # If any, drop rows where \"Metadata_ImageNumber\" is NaN (artifact of cytotable)\n",
                "    output_dict_of_dfs[featurization_type][\"df\"] = output_dict_of_dfs[\n",
                "        featurization_type\n",
                "    ][\"df\"].dropna(subset=[\"Metadata_ImageNumber\"])\n",
                "\n",
                "    # Rearrange columns and add \"Metadata\" prefix in one line\n",
                "    output_dict_of_dfs[featurization_type][\"df\"] = output_dict_of_dfs[\n",
                "        featurization_type\n",
                "    ][\"df\"][\n",
                "        prioritized_columns\n",
                "        + [\n",
                "            col\n",
                "            for col in output_dict_of_dfs[featurization_type][\"df\"].columns\n",
                "            if col not in prioritized_columns\n",
                "        ]\n",
                "    ].rename(\n",
                "        columns=lambda col: \"Metadata_\" + col if col in prioritized_columns else col\n",
                "    )\n",
                "    # rename Image_Metadata_Well\n",
                "    output_dict_of_dfs[featurization_type][\"df\"] = output_dict_of_dfs[\n",
                "        featurization_type\n",
                "    ][\"df\"].rename(columns={\"Image_Metadata_Well\": \"Metadata_Well\"})\n",
                "\n",
                "    if featurization_type == \"middle_slice\":\n",
                "        output_dict_of_dfs[featurization_type][\"df\"].to_parquet(\n",
                "            middle_slice_sc_output, index=False\n",
                "        )\n",
                "    elif featurization_type == \"zmax_proj\":\n",
                "        output_dict_of_dfs[featurization_type][\"df\"].to_parquet(\n",
                "            max_projected_sc_output, index=False\n",
                "        )\n",
                "    print(\n",
                "        f\"Saved {featurization_type} data to {output_dict_of_dfs[featurization_type]['df'].shape[0]} rows in {output_dict_of_dfs[featurization_type]['df'].shape[1]} columns\"\n",
                "    )"
            ]
        },
        {
            "cell_type": "markdown",
            "metadata": {},
            "source": [
                "## Extract organoid only profiles"
            ]
        },
        {
            "cell_type": "code",
            "execution_count": 7,
            "metadata": {},
            "outputs": [
                {
                    "data": {
                        "text/plain": [
                            "{'middle_slice': {'df_list': []}, 'zmax_proj': {'df_list': []}}"
                        ]
                    },
                    "execution_count": 7,
                    "metadata": {},
                    "output_type": "execute_result"
                }
            ],
            "source": [
                "output_dict_of_dfs = {}\n",
                "for sqlite_dir in [middle_slice_input, max_projected_input]:\n",
                "    output_dict_of_dfs[sqlite_dir.name.split(\"_out\")[0].split(\"cellprofiler_\")[1]] = {\n",
                "        \"df_list\": [],\n",
                "    }\n",
                "output_dict_of_dfs"
            ]
        },
        {
            "cell_type": "code",
            "execution_count": 8,
            "metadata": {},
            "outputs": [
                {
                    "name": "stdout",
                    "output_type": "stream",
                    "text": [
                        "Processing middle_slice files\n"
                    ]
                },
                {
                    "name": "stderr",
                    "output_type": "stream",
                    "text": [
                        "100%|\u2588\u2588\u2588\u2588\u2588\u2588\u2588\u2588\u2588\u2588| 347/347 [01:03<00:00,  5.47it/s]\n"
                    ]
                },
                {
                    "name": "stdout",
                    "output_type": "stream",
                    "text": [
                        "Processing zmax_proj files\n"
                    ]
                },
                {
                    "name": "stderr",
                    "output_type": "stream",
                    "text": [
                        "100%|\u2588\u2588\u2588\u2588\u2588\u2588\u2588\u2588\u2588\u2588| 347/347 [01:03<00:00,  5.51it/s]\n"
                    ]
                }
            ],
            "source": [
                "total = 0\n",
                "errors = 0\n",
                "for featurization_type in well_fov_dict.keys():\n",
                "    print(f\"Processing {featurization_type} files\")\n",
                "    for well_fov, file_info in tqdm.tqdm(well_fov_dict[featurization_type].items()):\n",
                "        well = well_fov.split(\"-\")[0]\n",
                "        fov = well_fov.split(\"-\")[1]\n",
                "        sqlite_file = file_info[\"image_path\"]\n",
                "        total += 1\n",
                "        try:\n",
                "            # Create a DuckDB connection\n",
                "            with duckdb.connect(sqlite_file) as con:\n",
                "                # get the organoid table\n",
                "                organoid_table = con.execute(\"SELECT * FROM Per_Organoid\").df()\n",
                "                organoid_table.rename(\n",
                "                    columns={\n",
                "                        \"ImageNumber\": \"Metadata_ImageNumber\",\n",
                "                        \"Organoid_Number_Object_Number\": \"Metadata_Organoid_Number_Object_Number\",\n",
                "                        \"Image_Metadata_Well\": \"Metadata_Well\",\n",
                "                    },\n",
                "                    inplace=True,\n",
                "                )\n",
                "                organoid_table.insert(0, \"Metadata_Well_FOV\", well_fov)\n",
                "                organoid_table.insert(1, \"Metadata_FOV\", fov)\n",
                "                organoid_table.insert(2, \"Metadata_Well\", well)\n",
                "            output_dict_of_dfs[featurization_type][\"df_list\"].append(organoid_table)\n",
                "\n",
                "        except Exception as e:\n",
                "            errors += 1\n",
                "            print(f\"Error processing {sqlite_file}: {e}\")\n",
                "            continue"
            ]
        },
        {
            "cell_type": "code",
            "execution_count": 9,
            "metadata": {},
            "outputs": [
                {
                    "name": "stdout",
                    "output_type": "stream",
                    "text": [
                        "Concatenating 347 dataframes for middle_slice\n",
                        "Saved middle_slice data to 283 rows in 967 columns\n",
                        "Concatenating 347 dataframes for zmax_proj\n",
                        "Saved zmax_proj data to 791 rows in 967 columns\n"
                    ]
                }
            ],
            "source": [
                "# read in the dataframes and concatenate them in place\n",
                "for featurization_type in output_dict_of_dfs.keys():\n",
                "    print(\n",
                "        f\"Concatenating {len(output_dict_of_dfs[featurization_type]['df_list'])} dataframes for {featurization_type}\"\n",
                "    )\n",
                "    output_dict_of_dfs[featurization_type][\"df\"] = pd.concat(\n",
                "        output_dict_of_dfs[featurization_type][\"df_list\"], ignore_index=True\n",
                "    )\n",
                "\n",
                "    # If any, drop rows where \"Metadata_ImageNumber\" is NaN (artifact of cytotable)\n",
                "    output_dict_of_dfs[featurization_type][\"df\"] = output_dict_of_dfs[\n",
                "        featurization_type\n",
                "    ][\"df\"].dropna(subset=[\"Metadata_ImageNumber\"])\n",
                "    if featurization_type == \"middle_slice\":\n",
                "        output_dict_of_dfs[featurization_type][\"df\"].to_parquet(\n",
                "            middle_slice_organoid_output, index=False\n",
                "        )\n",
                "    elif featurization_type == \"zmax_proj\":\n",
                "        output_dict_of_dfs[featurization_type][\"df\"].to_parquet(\n",
                "            max_projected_organoid_output, index=False\n",
                "        )\n",
                "    print(\n",
                "        f\"Saved {featurization_type} data to {output_dict_of_dfs[featurization_type]['df'].shape[0]} rows in {output_dict_of_dfs[featurization_type]['df'].shape[1]} columns\"\n",
                "    )"
            ]
        }
    ],
    "metadata": {
        "kernelspec": {
            "display_name": "gff_preprocessing_env",
            "language": "python",
            "name": "python3"
        },
        "language_info": {
            "codemirror_mode": {
                "name": "ipython",
                "version": 3
            },
            "file_extension": ".py",
            "mimetype": "text/x-python",
            "name": "python",
            "nbconvert_exporter": "python",
            "pygments_lexer": "ipython3",
            "version": "3.10.15"
        },
        "orig_nbformat": 4
    },
    "nbformat": 4,
    "nbformat_minor": 2
}
