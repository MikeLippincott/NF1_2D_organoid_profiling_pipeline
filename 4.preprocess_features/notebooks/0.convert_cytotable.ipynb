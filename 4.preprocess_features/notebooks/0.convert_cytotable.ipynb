{
    "cells": [
        {
            "cell_type": "markdown",
            "metadata": {},
            "source": [
                "# Convert SQLite output(s) to parquet files with CytoTable"
            ]
        },
        {
            "cell_type": "markdown",
            "metadata": {},
            "source": [
                "## Import libraries"
            ]
        },
        {
            "cell_type": "code",
            "execution_count": 1,
            "metadata": {},
            "outputs": [],
            "source": [
                "import argparse\n",
                "import logging\n",
                "import pathlib\n",
                "import uuid\n",
                "\n",
                "import duckdb\n",
                "import pandas as pd\n",
                "import tqdm\n",
                "\n",
                "# cytotable will merge objects from SQLite file into single cells and save as parquet file\n",
                "from cytotable import convert, presets\n",
                "from parsl.config import Config\n",
                "from parsl.executors import HighThroughputExecutor\n",
                "\n",
                "# Set the logging level to a higher level to avoid outputting unnecessary errors from config file in convert function\n",
                "logging.getLogger().setLevel(logging.ERROR)\n",
                "try:\n",
                "    cfg = get_ipython().config\n",
                "    in_notebook = True\n",
                "except NameError:\n",
                "    in_notebook = False"
            ]
        },
        {
            "cell_type": "code",
            "execution_count": 2,
            "metadata": {},
            "outputs": [
                {
                    "name": "stdout",
                    "output_type": "stream",
                    "text": [
                        "Running in a notebook\n"
                    ]
                }
            ],
            "source": [
                "if not in_notebook:\n",
                "    print(\"Running as script\")\n",
                "    # set up arg parser\n",
                "    parser = argparse.ArgumentParser(description=\"Segment the nuclei of a tiff image\")\n",
                "\n",
                "    parser.add_argument(\n",
                "        \"--patient\",\n",
                "        type=str,\n",
                "        help=\"Patient ID\",\n",
                "    )\n",
                "\n",
                "    args = parser.parse_args()\n",
                "    patient = args.patient\n",
                "else:\n",
                "    print(\"Running in a notebook\")\n",
                "    patient = \"NF0014\"\n",
                "\n",
                "middle_slice_input = pathlib.Path(\n",
                "    f\"../../data/{patient}/cellprofiler_middle_slice_output/\"\n",
                ").resolve(strict=True)\n",
                "max_projected_input = pathlib.Path(\n",
                "    f\"../../data/{patient}/cellprofiler_zmax_proj_output/\"\n",
                ").resolve(strict=True)\n",
                "\n",
                "# directory for processed data\n",
                "output_dir = pathlib.Path(f\"../../data/{patient}/0.converted/\").resolve()\n",
                "output_dir.mkdir(parents=True, exist_ok=True)\n",
                "middle_slice_sc_output = pathlib.Path(output_dir, \"middle_slice_sc.parquet\").resolve()\n",
                "max_projected_sc_output = pathlib.Path(output_dir, \"max_projected_sc.parquet\").resolve()\n",
                "middle_slice_organoid_output = pathlib.Path(\n",
                "    output_dir, \"middle_slice_organoid.parquet\"\n",
                ").resolve()\n",
                "max_projected_organoid_output = pathlib.Path(\n",
                "    output_dir, \"max_projected_organoid.parquet\"\n",
                ").resolve()"
            ]
        },
        {
            "cell_type": "markdown",
            "metadata": {},
            "source": [
                "## Set paths and variables"
            ]
        },
        {
            "cell_type": "code",
            "execution_count": 3,
            "metadata": {},
            "outputs": [],
            "source": [
                "# preset configurations based on typical CellProfiler outputs\n",
                "preset = \"cellprofiler_sqlite_pycytominer\"\n",
                "\n",
                "# update preset to include site metadata and cell counts\n",
                "joins = presets.config[\"cellprofiler_sqlite_pycytominer\"][\"CONFIG_JOINS\"].replace(\n",
                "    \"Image_Metadata_Well,\",\n",
                "    \"Image_Metadata_Well, Image_Metadata_Site, Image_Count_Cells,\",\n",
                ")\n",
                "\n",
                "# type of file output from cytotable (currently only parquet)\n",
                "dest_datatype = \"parquet\"\n",
                "\n",
                "\n",
                "well_fov_dict = {}\n",
                "for sqlite_dir in [middle_slice_input, max_projected_input]:\n",
                "    twoD_type = sqlite_dir.name.split(\"_out\")[0].split(\"cellprofiler_\")[1]\n",
                "    well_fov_dict[twoD_type] = {}\n",
                "    sqlites = list(sqlite_dir.rglob(\"*sqlite\"))\n",
                "    sqlites.sort()  # sort to ensure consistent order\n",
                "    for file_path in sqlites:\n",
                "        well_fov = file_path.parent.stem\n",
                "        well_fov_dict[twoD_type][well_fov] = {\n",
                "            \"image_path\": file_path,\n",
                "            \"output_dir\": output_dir / twoD_type / f\"{well_fov}\",\n",
                "        }"
            ]
        },
        {
            "cell_type": "markdown",
            "metadata": {},
            "source": [
                "## Convert SQLite to parquet file(s) for single-cell profiles"
            ]
        },
        {
            "cell_type": "code",
            "execution_count": 4,
            "metadata": {},
            "outputs": [
                {
                    "data": {
                        "text/plain": [
                            "{'middle_slice': {'df_list': []}, 'zmax_proj': {'df_list': []}}"
                        ]
                    },
                    "execution_count": 4,
                    "metadata": {},
                    "output_type": "execute_result"
                }
            ],
            "source": [
                "output_dict_of_dfs = {}\n",
                "for sqlite_dir in [middle_slice_input, max_projected_input]:\n",
                "    output_dict_of_dfs[sqlite_dir.name.split(\"_out\")[0].split(\"cellprofiler_\")[1]] = {\n",
                "        \"df_list\": [],\n",
                "    }\n",
                "output_dict_of_dfs"
            ]
        },
        {
            "cell_type": "code",
            "execution_count": 5,
            "metadata": {},
            "outputs": [
                {
                    "name": "stderr",
                    "output_type": "stream",
                    "text": [
                        "  3%|\u258e         | 3/104 [00:28<15:08,  9.00s/it]"
                    ]
                },
                {
                    "name": "stdout",
                    "output_type": "stream",
                    "text": [
                        "Error processing /home/lippincm/4TB_A/NF1_2D_organoid_profiling_pipeline/data/NF0014/cellprofiler_middle_slice_output/C11-1/gff_extracted_features.sqlite: list index out of range\n"
                    ]
                },
                {
                    "name": "stderr",
                    "output_type": "stream",
                    "text": [
                        "  4%|\u258d         | 4/104 [00:28<09:24,  5.64s/it]"
                    ]
                },
                {
                    "name": "stdout",
                    "output_type": "stream",
                    "text": [
                        "Error processing /home/lippincm/4TB_A/NF1_2D_organoid_profiling_pipeline/data/NF0014/cellprofiler_middle_slice_output/C11-2/gff_extracted_features.sqlite: list index out of range\n"
                    ]
                },
                {
                    "name": "stderr",
                    "output_type": "stream",
                    "text": [
                        "  5%|\u258d         | 5/104 [00:29<06:18,  3.82s/it]"
                    ]
                },
                {
                    "name": "stdout",
                    "output_type": "stream",
                    "text": [
                        "Error processing /home/lippincm/4TB_A/NF1_2D_organoid_profiling_pipeline/data/NF0014/cellprofiler_middle_slice_output/C2-1/gff_extracted_features.sqlite: list index out of range\n"
                    ]
                },
                {
                    "name": "stderr",
                    "output_type": "stream",
                    "text": [
                        "  8%|\u258a         | 8/104 [00:49<09:50,  6.15s/it]"
                    ]
                },
                {
                    "name": "stdout",
                    "output_type": "stream",
                    "text": [
                        "Error processing /home/lippincm/4TB_A/NF1_2D_organoid_profiling_pipeline/data/NF0014/cellprofiler_middle_slice_output/C3-2/gff_extracted_features.sqlite: list index out of range\n"
                    ]
                },
                {
                    "name": "stderr",
                    "output_type": "stream",
                    "text": [
                        " 26%|\u2588\u2588\u258c       | 27/104 [04:02<12:26,  9.70s/it]"
                    ]
                },
                {
                    "name": "stdout",
                    "output_type": "stream",
                    "text": [
                        "Error processing /home/lippincm/4TB_A/NF1_2D_organoid_profiling_pipeline/data/NF0014/cellprofiler_middle_slice_output/D2-2/gff_extracted_features.sqlite: list index out of range\n"
                    ]
                },
                {
                    "name": "stderr",
                    "output_type": "stream",
                    "text": [
                        " 27%|\u2588\u2588\u258b       | 28/104 [04:02<08:51,  6.99s/it]"
                    ]
                },
                {
                    "name": "stdout",
                    "output_type": "stream",
                    "text": [
                        "Error processing /home/lippincm/4TB_A/NF1_2D_organoid_profiling_pipeline/data/NF0014/cellprofiler_middle_slice_output/D2-3/gff_extracted_features.sqlite: list index out of range\n"
                    ]
                },
                {
                    "name": "stderr",
                    "output_type": "stream",
                    "text": [
                        " 31%|\u2588\u2588\u2588       | 32/104 [04:34<09:45,  8.14s/it]"
                    ]
                },
                {
                    "name": "stdout",
                    "output_type": "stream",
                    "text": [
                        "Error processing /home/lippincm/4TB_A/NF1_2D_organoid_profiling_pipeline/data/NF0014/cellprofiler_middle_slice_output/D4-2/gff_extracted_features.sqlite: list index out of range\n"
                    ]
                },
                {
                    "name": "stderr",
                    "output_type": "stream",
                    "text": [
                        " 42%|\u2588\u2588\u2588\u2588\u258f     | 44/104 [06:34<09:43,  9.73s/it]"
                    ]
                },
                {
                    "name": "stdout",
                    "output_type": "stream",
                    "text": [
                        "Error processing /home/lippincm/4TB_A/NF1_2D_organoid_profiling_pipeline/data/NF0014/cellprofiler_middle_slice_output/E10-1/gff_extracted_features.sqlite: list index out of range\n"
                    ]
                },
                {
                    "name": "stderr",
                    "output_type": "stream",
                    "text": [
                        " 43%|\u2588\u2588\u2588\u2588\u258e     | 45/104 [06:35<06:56,  7.06s/it]"
                    ]
                },
                {
                    "name": "stdout",
                    "output_type": "stream",
                    "text": [
                        "Error processing /home/lippincm/4TB_A/NF1_2D_organoid_profiling_pipeline/data/NF0014/cellprofiler_middle_slice_output/E10-2/gff_extracted_features.sqlite: list index out of range\n"
                    ]
                },
                {
                    "name": "stderr",
                    "output_type": "stream",
                    "text": [
                        " 44%|\u2588\u2588\u2588\u2588\u258d     | 46/104 [06:35<04:57,  5.12s/it]"
                    ]
                },
                {
                    "name": "stdout",
                    "output_type": "stream",
                    "text": [
                        "Error processing /home/lippincm/4TB_A/NF1_2D_organoid_profiling_pipeline/data/NF0014/cellprofiler_middle_slice_output/E11-1/gff_extracted_features.sqlite: list index out of range\n"
                    ]
                },
                {
                    "name": "stderr",
                    "output_type": "stream",
                    "text": [
                        " 52%|\u2588\u2588\u2588\u2588\u2588\u258f    | 54/104 [07:51<07:44,  9.29s/it]"
                    ]
                },
                {
                    "name": "stdout",
                    "output_type": "stream",
                    "text": [
                        "Error processing /home/lippincm/4TB_A/NF1_2D_organoid_profiling_pipeline/data/NF0014/cellprofiler_middle_slice_output/E5-1/gff_extracted_features.sqlite: list index out of range\n"
                    ]
                },
                {
                    "name": "stderr",
                    "output_type": "stream",
                    "text": [
                        " 53%|\u2588\u2588\u2588\u2588\u2588\u258e    | 55/104 [07:51<05:29,  6.72s/it]"
                    ]
                },
                {
                    "name": "stdout",
                    "output_type": "stream",
                    "text": [
                        "Error processing /home/lippincm/4TB_A/NF1_2D_organoid_profiling_pipeline/data/NF0014/cellprofiler_middle_slice_output/E5-2/gff_extracted_features.sqlite: list index out of range\n"
                    ]
                },
                {
                    "name": "stderr",
                    "output_type": "stream",
                    "text": [
                        " 56%|\u2588\u2588\u2588\u2588\u2588\u258c    | 58/104 [08:12<05:32,  7.22s/it]"
                    ]
                },
                {
                    "name": "stdout",
                    "output_type": "stream",
                    "text": [
                        "Error processing /home/lippincm/4TB_A/NF1_2D_organoid_profiling_pipeline/data/NF0014/cellprofiler_middle_slice_output/E7-1/gff_extracted_features.sqlite: list index out of range\n"
                    ]
                },
                {
                    "name": "stderr",
                    "output_type": "stream",
                    "text": [
                        " 58%|\u2588\u2588\u2588\u2588\u2588\u258a    | 60/104 [08:23<04:43,  6.44s/it]"
                    ]
                },
                {
                    "name": "stdout",
                    "output_type": "stream",
                    "text": [
                        "Error processing /home/lippincm/4TB_A/NF1_2D_organoid_profiling_pipeline/data/NF0014/cellprofiler_middle_slice_output/E8-1/gff_extracted_features.sqlite: list index out of range\n"
                    ]
                },
                {
                    "name": "stderr",
                    "output_type": "stream",
                    "text": [
                        " 72%|\u2588\u2588\u2588\u2588\u2588\u2588\u2588\u258f  | 75/104 [10:58<04:46,  9.89s/it]"
                    ]
                },
                {
                    "name": "stdout",
                    "output_type": "stream",
                    "text": [
                        "Error processing /home/lippincm/4TB_A/NF1_2D_organoid_profiling_pipeline/data/NF0014/cellprofiler_middle_slice_output/F5-2/gff_extracted_features.sqlite: list index out of range\n"
                    ]
                },
                {
                    "name": "stderr",
                    "output_type": "stream",
                    "text": [
                        " 84%|\u2588\u2588\u2588\u2588\u2588\u2588\u2588\u2588\u258e | 87/104 [13:02<02:50, 10.04s/it]"
                    ]
                },
                {
                    "name": "stdout",
                    "output_type": "stream",
                    "text": [
                        "Error processing /home/lippincm/4TB_A/NF1_2D_organoid_profiling_pipeline/data/NF0014/cellprofiler_middle_slice_output/G11-1/gff_extracted_features.sqlite: list index out of range\n"
                    ]
                },
                {
                    "name": "stderr",
                    "output_type": "stream",
                    "text": [
                        " 85%|\u2588\u2588\u2588\u2588\u2588\u2588\u2588\u2588\u258d | 88/104 [13:03<01:56,  7.28s/it]"
                    ]
                },
                {
                    "name": "stdout",
                    "output_type": "stream",
                    "text": [
                        "Error processing /home/lippincm/4TB_A/NF1_2D_organoid_profiling_pipeline/data/NF0014/cellprofiler_middle_slice_output/G11-2/gff_extracted_features.sqlite: list index out of range\n"
                    ]
                },
                {
                    "name": "stderr",
                    "output_type": "stream",
                    "text": [
                        " 86%|\u2588\u2588\u2588\u2588\u2588\u2588\u2588\u2588\u258c | 89/104 [13:04<01:19,  5.31s/it]"
                    ]
                },
                {
                    "name": "stdout",
                    "output_type": "stream",
                    "text": [
                        "Error processing /home/lippincm/4TB_A/NF1_2D_organoid_profiling_pipeline/data/NF0014/cellprofiler_middle_slice_output/G2-1/gff_extracted_features.sqlite: list index out of range\n"
                    ]
                },
                {
                    "name": "stderr",
                    "output_type": "stream",
                    "text": [
                        " 87%|\u2588\u2588\u2588\u2588\u2588\u2588\u2588\u2588\u258b | 90/104 [13:04<00:53,  3.83s/it]"
                    ]
                },
                {
                    "name": "stdout",
                    "output_type": "stream",
                    "text": [
                        "Error processing /home/lippincm/4TB_A/NF1_2D_organoid_profiling_pipeline/data/NF0014/cellprofiler_middle_slice_output/G2-2/gff_extracted_features.sqlite: list index out of range\n"
                    ]
                },
                {
                    "name": "stderr",
                    "output_type": "stream",
                    "text": [
                        " 88%|\u2588\u2588\u2588\u2588\u2588\u2588\u2588\u2588\u258a | 91/104 [13:04<00:36,  2.82s/it]"
                    ]
                },
                {
                    "name": "stdout",
                    "output_type": "stream",
                    "text": [
                        "Error processing /home/lippincm/4TB_A/NF1_2D_organoid_profiling_pipeline/data/NF0014/cellprofiler_middle_slice_output/G3-1/gff_extracted_features.sqlite: list index out of range\n"
                    ]
                },
                {
                    "name": "stderr",
                    "output_type": "stream",
                    "text": [
                        "100%|\u2588\u2588\u2588\u2588\u2588\u2588\u2588\u2588\u2588\u2588| 104/104 [15:22<00:00,  8.87s/it]\n",
                        "  5%|\u258d         | 5/104 [00:52<16:15,  9.86s/it]"
                    ]
                },
                {
                    "name": "stdout",
                    "output_type": "stream",
                    "text": [
                        "Error processing /home/lippincm/4TB_A/NF1_2D_organoid_profiling_pipeline/data/NF0014/cellprofiler_zmax_proj_output/C2-1/gff_extracted_features.sqlite: list index out of range\n"
                    ]
                },
                {
                    "name": "stderr",
                    "output_type": "stream",
                    "text": [
                        "  8%|\u258a         | 8/104 [01:16<14:19,  8.96s/it]"
                    ]
                },
                {
                    "name": "stdout",
                    "output_type": "stream",
                    "text": [
                        "Error processing /home/lippincm/4TB_A/NF1_2D_organoid_profiling_pipeline/data/NF0014/cellprofiler_zmax_proj_output/C3-2/gff_extracted_features.sqlite: list index out of range\n"
                    ]
                },
                {
                    "name": "stderr",
                    "output_type": "stream",
                    "text": [
                        " 26%|\u2588\u2588\u258c       | 27/104 [04:50<13:40, 10.66s/it]"
                    ]
                },
                {
                    "name": "stdout",
                    "output_type": "stream",
                    "text": [
                        "Error processing /home/lippincm/4TB_A/NF1_2D_organoid_profiling_pipeline/data/NF0014/cellprofiler_zmax_proj_output/D2-2/gff_extracted_features.sqlite: list index out of range\n"
                    ]
                },
                {
                    "name": "stderr",
                    "output_type": "stream",
                    "text": [
                        " 27%|\u2588\u2588\u258b       | 28/104 [04:51<09:54,  7.82s/it]"
                    ]
                },
                {
                    "name": "stdout",
                    "output_type": "stream",
                    "text": [
                        "Error processing /home/lippincm/4TB_A/NF1_2D_organoid_profiling_pipeline/data/NF0014/cellprofiler_zmax_proj_output/D2-3/gff_extracted_features.sqlite: list index out of range\n"
                    ]
                },
                {
                    "name": "stderr",
                    "output_type": "stream",
                    "text": [
                        " 42%|\u2588\u2588\u2588\u2588\u258f     | 44/104 [07:50<10:44, 10.74s/it]"
                    ]
                },
                {
                    "name": "stdout",
                    "output_type": "stream",
                    "text": [
                        "Error processing /home/lippincm/4TB_A/NF1_2D_organoid_profiling_pipeline/data/NF0014/cellprofiler_zmax_proj_output/E10-1/gff_extracted_features.sqlite: list index out of range\n"
                    ]
                },
                {
                    "name": "stderr",
                    "output_type": "stream",
                    "text": [
                        " 43%|\u2588\u2588\u2588\u2588\u258e     | 45/104 [07:51<07:44,  7.88s/it]"
                    ]
                },
                {
                    "name": "stdout",
                    "output_type": "stream",
                    "text": [
                        "Error processing /home/lippincm/4TB_A/NF1_2D_organoid_profiling_pipeline/data/NF0014/cellprofiler_zmax_proj_output/E10-2/gff_extracted_features.sqlite: list index out of range\n"
                    ]
                },
                {
                    "name": "stderr",
                    "output_type": "stream",
                    "text": [
                        " 44%|\u2588\u2588\u2588\u2588\u258d     | 46/104 [07:53<05:46,  5.97s/it]"
                    ]
                },
                {
                    "name": "stdout",
                    "output_type": "stream",
                    "text": [
                        "Error processing /home/lippincm/4TB_A/NF1_2D_organoid_profiling_pipeline/data/NF0014/cellprofiler_zmax_proj_output/E11-1/gff_extracted_features.sqlite: list index out of range\n"
                    ]
                },
                {
                    "name": "stderr",
                    "output_type": "stream",
                    "text": [
                        " 53%|\u2588\u2588\u2588\u2588\u2588\u258e    | 55/104 [09:27<08:26, 10.34s/it]"
                    ]
                },
                {
                    "name": "stdout",
                    "output_type": "stream",
                    "text": [
                        "Error processing /home/lippincm/4TB_A/NF1_2D_organoid_profiling_pipeline/data/NF0014/cellprofiler_zmax_proj_output/E5-2/gff_extracted_features.sqlite: list index out of range\n"
                    ]
                },
                {
                    "name": "stderr",
                    "output_type": "stream",
                    "text": [
                        " 84%|\u2588\u2588\u2588\u2588\u2588\u2588\u2588\u2588\u258e | 87/104 [15:43<03:03, 10.80s/it]"
                    ]
                },
                {
                    "name": "stdout",
                    "output_type": "stream",
                    "text": [
                        "Error processing /home/lippincm/4TB_A/NF1_2D_organoid_profiling_pipeline/data/NF0014/cellprofiler_zmax_proj_output/G11-1/gff_extracted_features.sqlite: list index out of range\n"
                    ]
                },
                {
                    "name": "stderr",
                    "output_type": "stream",
                    "text": [
                        " 86%|\u2588\u2588\u2588\u2588\u2588\u2588\u2588\u2588\u258c | 89/104 [15:55<02:08,  8.56s/it]"
                    ]
                },
                {
                    "name": "stdout",
                    "output_type": "stream",
                    "text": [
                        "Error processing /home/lippincm/4TB_A/NF1_2D_organoid_profiling_pipeline/data/NF0014/cellprofiler_zmax_proj_output/G2-1/gff_extracted_features.sqlite: list index out of range\n"
                    ]
                },
                {
                    "name": "stderr",
                    "output_type": "stream",
                    "text": [
                        " 87%|\u2588\u2588\u2588\u2588\u2588\u2588\u2588\u2588\u258b | 90/104 [15:56<01:28,  6.32s/it]"
                    ]
                },
                {
                    "name": "stdout",
                    "output_type": "stream",
                    "text": [
                        "Error processing /home/lippincm/4TB_A/NF1_2D_organoid_profiling_pipeline/data/NF0014/cellprofiler_zmax_proj_output/G2-2/gff_extracted_features.sqlite: list index out of range\n"
                    ]
                },
                {
                    "name": "stderr",
                    "output_type": "stream",
                    "text": [
                        "100%|\u2588\u2588\u2588\u2588\u2588\u2588\u2588\u2588\u2588\u2588| 104/104 [18:39<00:00, 10.76s/it]"
                    ]
                },
                {
                    "name": "stdout",
                    "output_type": "stream",
                    "text": [
                        "Total files processed: 208\n",
                        "Total errors encountered: 31\n"
                    ]
                },
                {
                    "name": "stderr",
                    "output_type": "stream",
                    "text": [
                        "\n"
                    ]
                }
            ],
            "source": [
                "total = 0\n",
                "errors = 0\n",
                "# loop through the middle and zmax projected sqlite files\n",
                "for featurization_type in well_fov_dict.keys():\n",
                "    for well_fov, file_info in tqdm.tqdm(well_fov_dict[featurization_type].items()):\n",
                "        sqlite_file = file_info[\"image_path\"]\n",
                "        total += 1\n",
                "        # convert the sqlite file to a single cell parquet file\n",
                "        try:\n",
                "            df = convert(\n",
                "                sqlite_file,\n",
                "                preset=preset,\n",
                "                joins=joins,\n",
                "                chunk_size=500,\n",
                "                dest_datatype=dest_datatype,\n",
                "                dest_path=f\"{well_fov_dict[featurization_type][well_fov]['output_dir']}_sc.parquet\",\n",
                "                parsl_config=Config(\n",
                "                    executors=[HighThroughputExecutor()],\n",
                "                    run_dir=f\"cytotable_runinfo/{uuid.uuid4().hex}\",\n",
                "                ),\n",
                "            )\n",
                "            output_dict_of_dfs[featurization_type][\"df_list\"].append(\n",
                "                f\"{well_fov_dict[featurization_type][well_fov]['output_dir']}_sc.parquet\"\n",
                "            )\n",
                "        except Exception as e:\n",
                "            errors += 1\n",
                "            print(f\"Error processing {sqlite_file}: {e}\")\n",
                "            continue\n",
                "print(f\"Total files processed: {total}\")\n",
                "print(f\"Total errors encountered: {errors}\")"
            ]
        },
        {
            "cell_type": "code",
            "execution_count": 6,
            "metadata": {},
            "outputs": [
                {
                    "name": "stdout",
                    "output_type": "stream",
                    "text": [
                        "Concatenating 84 dataframes for middle_slice\n",
                        "Saved middle_slice data to 663 rows in 2910 columns\n",
                        "Concatenating 93 dataframes for zmax_proj\n",
                        "Saved zmax_proj data to 1549 rows in 2910 columns\n"
                    ]
                }
            ],
            "source": [
                "# read in the dataframes and concatenate them in place\n",
                "for featurization_type in output_dict_of_dfs.keys():\n",
                "    print(\n",
                "        f\"Concatenating {len(output_dict_of_dfs[featurization_type]['df_list'])} dataframes for {featurization_type}\"\n",
                "    )\n",
                "    df_list = [\n",
                "        pd.read_parquet(df) for df in output_dict_of_dfs[featurization_type][\"df_list\"]\n",
                "    ]\n",
                "    output_dict_of_dfs[featurization_type][\"df\"] = pd.concat(df_list, ignore_index=True)\n",
                "    # Define the list of columns to prioritize and prefix\n",
                "    prioritized_columns = [\n",
                "        \"Nuclei_Location_Center_X\",\n",
                "        \"Nuclei_Location_Center_Y\",\n",
                "        \"Cells_Location_Center_X\",\n",
                "        \"Cells_Location_Center_Y\",\n",
                "        \"Image_Count_Cells\",\n",
                "    ]\n",
                "\n",
                "    # If any, drop rows where \"Metadata_ImageNumber\" is NaN (artifact of cytotable)\n",
                "    output_dict_of_dfs[featurization_type][\"df\"] = output_dict_of_dfs[\n",
                "        featurization_type\n",
                "    ][\"df\"].dropna(subset=[\"Metadata_ImageNumber\"])\n",
                "\n",
                "    # Rearrange columns and add \"Metadata\" prefix in one line\n",
                "    output_dict_of_dfs[featurization_type][\"df\"] = output_dict_of_dfs[\n",
                "        featurization_type\n",
                "    ][\"df\"][\n",
                "        prioritized_columns\n",
                "        + [\n",
                "            col\n",
                "            for col in output_dict_of_dfs[featurization_type][\"df\"].columns\n",
                "            if col not in prioritized_columns\n",
                "        ]\n",
                "    ].rename(\n",
                "        columns=lambda col: \"Metadata_\" + col if col in prioritized_columns else col\n",
                "    )\n",
                "    # rename Image_Metadata_Well\n",
                "    output_dict_of_dfs[featurization_type][\"df\"] = output_dict_of_dfs[\n",
                "        featurization_type\n",
                "    ][\"df\"].rename(columns={\"Image_Metadata_Well\": \"Metadata_Well\"})\n",
                "\n",
                "    if featurization_type == \"middle_slice\":\n",
                "        output_dict_of_dfs[featurization_type][\"df\"].to_parquet(\n",
                "            middle_slice_sc_output, index=False\n",
                "        )\n",
                "    elif featurization_type == \"zmax_proj\":\n",
                "        output_dict_of_dfs[featurization_type][\"df\"].to_parquet(\n",
                "            max_projected_sc_output, index=False\n",
                "        )\n",
                "    print(\n",
                "        f\"Saved {featurization_type} data to {output_dict_of_dfs[featurization_type]['df'].shape[0]} rows in {output_dict_of_dfs[featurization_type]['df'].shape[1]} columns\"\n",
                "    )"
            ]
        },
        {
            "cell_type": "markdown",
            "metadata": {},
            "source": [
                "## Extract organoid only profiles"
            ]
        },
        {
            "cell_type": "code",
            "execution_count": 7,
            "metadata": {},
            "outputs": [
                {
                    "data": {
                        "text/plain": [
                            "{'middle_slice': {'df_list': []}, 'zmax_proj': {'df_list': []}}"
                        ]
                    },
                    "execution_count": 7,
                    "metadata": {},
                    "output_type": "execute_result"
                }
            ],
            "source": [
                "output_dict_of_dfs = {}\n",
                "for sqlite_dir in [middle_slice_input, max_projected_input]:\n",
                "    output_dict_of_dfs[sqlite_dir.name.split(\"_out\")[0].split(\"cellprofiler_\")[1]] = {\n",
                "        \"df_list\": [],\n",
                "    }\n",
                "output_dict_of_dfs"
            ]
        },
        {
            "cell_type": "code",
            "execution_count": 8,
            "metadata": {},
            "outputs": [
                {
                    "name": "stdout",
                    "output_type": "stream",
                    "text": [
                        "Processing middle_slice files\n"
                    ]
                },
                {
                    "name": "stderr",
                    "output_type": "stream",
                    "text": [
                        "100%|\u2588\u2588\u2588\u2588\u2588\u2588\u2588\u2588\u2588\u2588| 104/104 [00:05<00:00, 18.99it/s]\n"
                    ]
                },
                {
                    "name": "stdout",
                    "output_type": "stream",
                    "text": [
                        "Processing zmax_proj files\n"
                    ]
                },
                {
                    "name": "stderr",
                    "output_type": "stream",
                    "text": [
                        "100%|\u2588\u2588\u2588\u2588\u2588\u2588\u2588\u2588\u2588\u2588| 104/104 [00:05<00:00, 18.12it/s]\n"
                    ]
                }
            ],
            "source": [
                "total = 0\n",
                "errors = 0\n",
                "for featurization_type in well_fov_dict.keys():\n",
                "    print(f\"Processing {featurization_type} files\")\n",
                "    for well_fov, file_info in tqdm.tqdm(well_fov_dict[featurization_type].items()):\n",
                "        well = well_fov.split(\"-\")[0]\n",
                "        fov = well_fov.split(\"-\")[1]\n",
                "        sqlite_file = file_info[\"image_path\"]\n",
                "        total += 1\n",
                "        try:\n",
                "            # Create a DuckDB connection\n",
                "            with duckdb.connect(sqlite_file) as con:\n",
                "                # get the organoid table\n",
                "                organoid_table = con.execute(\"SELECT * FROM Per_Organoid\").df()\n",
                "                organoid_table.rename(\n",
                "                    columns={\n",
                "                        \"ImageNumber\": \"Metadata_ImageNumber\",\n",
                "                        \"Organoid_Number_Object_Number\": \"Metadata_Organoid_Number_Object_Number\",\n",
                "                        \"Image_Metadata_Well\": \"Metadata_Well\",\n",
                "                    },\n",
                "                    inplace=True,\n",
                "                )\n",
                "                organoid_table.insert(0, \"Metadata_Well_FOV\", well_fov)\n",
                "                organoid_table.insert(1, \"Metadata_FOV\", fov)\n",
                "                organoid_table.insert(2, \"Metadata_Well\", well)\n",
                "            output_dict_of_dfs[featurization_type][\"df_list\"].append(organoid_table)\n",
                "\n",
                "        except Exception as e:\n",
                "            errors += 1\n",
                "            print(f\"Error processing {sqlite_file}: {e}\")\n",
                "            continue"
            ]
        },
        {
            "cell_type": "code",
            "execution_count": null,
            "metadata": {},
            "outputs": [
                {
                    "name": "stdout",
                    "output_type": "stream",
                    "text": [
                        "Concatenating 104 dataframes for middle_slice\n",
                        "Saved middle_slice data to 112 rows in 967 columns\n",
                        "Concatenating 104 dataframes for zmax_proj\n",
                        "Saved zmax_proj data to 181 rows in 967 columns\n"
                    ]
                }
            ],
            "source": [
                "# read in the dataframes and concatenate them in place\n",
                "for featurization_type in output_dict_of_dfs.keys():\n",
                "    print(\n",
                "        f\"Concatenating {len(output_dict_of_dfs[featurization_type]['df_list'])} dataframes for {featurization_type}\"\n",
                "    )\n",
                "    output_dict_of_dfs[featurization_type][\"df\"] = pd.concat(\n",
                "        output_dict_of_dfs[featurization_type][\"df_list\"], ignore_index=True\n",
                "    )\n",
                "\n",
                "    # If any, drop rows where \"Metadata_ImageNumber\" is NaN (artifact of cytotable)\n",
                "    output_dict_of_dfs[featurization_type][\"df\"] = output_dict_of_dfs[\n",
                "        featurization_type\n",
                "    ][\"df\"].dropna(subset=[\"Metadata_ImageNumber\"])\n",
                "    if featurization_type == \"middle_slice\":\n",
                "        output_dict_of_dfs[featurization_type][\"df\"].to_parquet(\n",
                "            middle_slice_organoid_output, index=False\n",
                "        )\n",
                "    elif featurization_type == \"zmax_proj\":\n",
                "        output_dict_of_dfs[featurization_type][\"df\"].to_parquet(\n",
                "            max_projected_organoid_output, index=False\n",
                "        )\n",
                "    print(\n",
                "        f\"Saved {featurization_type} data to {output_dict_of_dfs[featurization_type]['df'].shape[0]} rows in {output_dict_of_dfs[featurization_type]['df'].shape[1]} columns\"\n",
                "    )"
            ]
        }
    ],
    "metadata": {
        "kernelspec": {
            "display_name": "gff_preprocessing_env",
            "language": "python",
            "name": "python3"
        },
        "language_info": {
            "codemirror_mode": {
                "name": "ipython",
                "version": 3
            },
            "file_extension": ".py",
            "mimetype": "text/x-python",
            "name": "python",
            "nbconvert_exporter": "python",
            "pygments_lexer": "ipython3",
            "version": "3.10.15"
        },
        "orig_nbformat": 4
    },
    "nbformat": 4,
    "nbformat_minor": 2
}
