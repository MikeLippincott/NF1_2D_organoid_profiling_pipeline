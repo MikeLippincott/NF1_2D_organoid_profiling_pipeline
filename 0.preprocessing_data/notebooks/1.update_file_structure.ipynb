{
    "cells": [
        {
            "cell_type": "markdown",
            "metadata": {},
            "source": [
                "# Copy raw images into one folder to use for CellProfiler processing\n",
                "\n",
                "Currently, the images are located nest deep within multiple folders. \n",
                "For best practices, we will copy the images (preserving metadata) to one folder that can be used for CellProfiler processing.\n",
                "This file is modified from its original version: https://github.com/WayScience/GFF_2D_organoid_prototyping ."
            ]
        },
        {
            "cell_type": "markdown",
            "metadata": {},
            "source": [
                "## Import libraries"
            ]
        },
        {
            "cell_type": "code",
            "execution_count": 1,
            "metadata": {},
            "outputs": [],
            "source": [
                "import argparse\n",
                "import multiprocessing\n",
                "import os\n",
                "import pathlib\n",
                "import shutil\n",
                "import sys\n",
                "from concurrent.futures import ProcessPoolExecutor\n",
                "\n",
                "import tqdm"
            ]
        },
        {
            "cell_type": "markdown",
            "metadata": {},
            "source": [
                "## Set paths and variables"
            ]
        },
        {
            "cell_type": "code",
            "execution_count": 2,
            "metadata": {},
            "outputs": [
                {
                    "name": "stdout",
                    "output_type": "stream",
                    "text": [
                        "HPC: False\n"
                    ]
                }
            ],
            "source": [
                "argparse = argparse.ArgumentParser(\n",
                "    description=\"Copy files from one directory to another\"\n",
                ")\n",
                "argparse.add_argument(\"--HPC\", action=\"store_true\", help=\"Type of compute to run on\")\n",
                "\n",
                "# Parse arguments\n",
                "args = argparse.parse_args(args=sys.argv[1:] if \"ipykernel\" not in sys.argv[0] else [])\n",
                "HPC = args.HPC\n",
                "\n",
                "print(f\"HPC: {HPC}\")"
            ]
        },
        {
            "cell_type": "code",
            "execution_count": 3,
            "metadata": {},
            "outputs": [],
            "source": [
                "if HPC:\n",
                "    raw_image_dir_hpc = pathlib.Path(\"/pl/active/koala/GFF_Data/GFF-Raw/\").resolve(\n",
                "        strict=True\n",
                "    )\n",
                "else:\n",
                "    # comment out depending on whose computer you are on\n",
                "    # mike's computer\n",
                "    raw_image_dir_local = pathlib.Path(\n",
                "        \"/home/lippincm/Desktop/18TB/NF1_Patient_organoids/\"\n",
                "    ).resolve(strict=True)\n",
                "    # Jenna's computer\n",
                "    # raw_image_dir_local = pathlib.Path(\"/media/18tbdrive/GFF_organoid_data/Cell Painting-NF0014 Thawed3-Pilot Drug Screening\")"
            ]
        },
        {
            "cell_type": "code",
            "execution_count": null,
            "metadata": {},
            "outputs": [],
            "source": [
                "# Define parent and destination directories in a single dictionary\n",
                "dir_mapping = {\n",
                "    \"NF0014\": {\n",
                "        \"parent\": pathlib.Path(\n",
                "            f\"{raw_image_dir_local}/NF0014-Thawed 3 (Raw image files)-Combined/NF0014-Thawed 3 (Raw image files)-Combined copy\"\n",
                "            if not HPC\n",
                "            else f\"{raw_image_dir_hpc}/NF0014-Thawed 3 (Raw image files)-Combined/NF0014-Thawed 3 (Raw image files)-Combined copy\"\n",
                "        ).resolve(strict=True),\n",
                "        \"destination\": pathlib.Path(\"../../data/NF0014/raw_images\").resolve(),\n",
                "    },\n",
                "    \"NF0016\": {\n",
                "        \"parent\": pathlib.Path(\n",
                "            f\"{raw_image_dir_local}/NF0016 Cell Painting-Pilot Drug Screening-selected/NF0016-Cell Painting Images/NF0016-images copy\"\n",
                "            if not HPC\n",
                "            else f\"{raw_image_dir_hpc}/NF0016 Cell Painting-Pilot Drug Screening-selected/NF0016-Cell Painting Images/NF0016-images copy\"\n",
                "        ).resolve(strict=True),\n",
                "        \"destination\": pathlib.Path(\"../../data/NF0016/raw_images\").resolve(),\n",
                "    },\n",
                "    # \"NF0017\": {\n",
                "    #     \"parent\": pathlib.Path(\n",
                "    #         f\"{raw_image_dir_local}/NF0017-T3-P7 (AGP, Mito Parameter optimization)/Acquisition 03-07-2025\"\n",
                "    #         if not HPC\n",
                "    #         else f\"{raw_image_dir_hpc}/NF0017-T3-P7 (AGP, Mito Parameter optimization)/Acquisition 03-07-2025\"  # TODO: Update this later if not correct\n",
                "    #     ).resolve(strict=True),\n",
                "    #     \"destination\": pathlib.Path(\n",
                "    #         \"../../data/raw_images/NF0017/raw_images\"\n",
                "    #     ).resolve(),\n",
                "    # },\n",
                "    \"NF0018\": {\n",
                "        \"parent\": pathlib.Path(\n",
                "            f\"{raw_image_dir_local}/NF0018 (T6) Cell Painting-Pilot Drug Screeining/NF0018-Cell Painting Images/NF0018-All Acquisitions\"\n",
                "            if not HPC\n",
                "            else f\"{raw_image_dir_hpc}/NF0018 (T6) Cell Painting-Pilot Drug Screeining/NF0018-Cell Painting Images/NF0018-All Acquisitions\"\n",
                "        ).resolve(strict=True),\n",
                "        \"destination\": pathlib.Path(\"../../data/NF0018/raw_images\").resolve(),\n",
                "    },\n",
                "    \"NF0021\": {\n",
                "        \"parent\": pathlib.Path(\n",
                "            f\"{raw_image_dir_local}/NF0021-T1/NF0021-T1 Combined\"\n",
                "            if not HPC\n",
                "            else f\"{raw_image_dir_hpc}/NF0021-T1/NF0021-T1 Combined\"\n",
                "        ).resolve(strict=True),\n",
                "        \"destination\": pathlib.Path(\"../../data/NF0021/raw_images\").resolve(),\n",
                "    },\n",
                "    \"SACRO219\": {\n",
                "        \"parent\": pathlib.Path(\n",
                "            f\"{raw_image_dir_local}/SARC0219-T2 Cell Painting-selected/SARC0219-T2 Combined Cell Painting images/SARC0219-T2 Combined/\"\n",
                "            if not HPC\n",
                "            else f\"{raw_image_dir_hpc}/SARC0219-T2 Cell Painting-selected/SARC0219-T2 Combined Cell Painting images/SARC0219-T2 Combined/\"\n",
                "        ).resolve(strict=True),\n",
                "        \"destination\": pathlib.Path(\"../../data/SARCO219/raw_images\").resolve(),\n",
                "    },\n",
                "    \"SARCO361\": {\n",
                "        \"parent\": pathlib.Path(\n",
                "            f\"{raw_image_dir_local}/SARC0361/SARC0361 Combined/\"\n",
                "            if not HPC\n",
                "            else f\"{raw_image_dir_hpc}/SARC0361/SARC0361 Combined/\"\n",
                "        ).resolve(strict=True),\n",
                "        \"destination\": pathlib.Path(\"../../data/SARCO361/raw_images\").resolve(),\n",
                "    },\n",
                "}\n",
                "\n",
                "# Image extensions that we are looking to copy\n",
                "image_extensions = {\".tif\", \".tiff\"}"
            ]
        },
        {
            "cell_type": "markdown",
            "metadata": {},
            "source": [
                "## Reach the nested images and copy to one folder"
            ]
        },
        {
            "cell_type": "markdown",
            "metadata": {},
            "source": [
                "### Set QC functions that determine if a well/site is of good quality to process based on file structure"
            ]
        },
        {
            "cell_type": "code",
            "execution_count": 5,
            "metadata": {},
            "outputs": [],
            "source": [
                "def has_consistent_naming(well_dir: pathlib.Path) -> bool:\n",
                "    \"\"\"Check that all nested folders within a well directory have the same names as the well directory itself.\n",
                "\n",
                "    Args:\n",
                "        well_dir (pathlib.Path): Path to a single well directory.\n",
                "\n",
                "    Returns:\n",
                "        bool: True if all nested folders inside this well directory have the same name as the well directory, False otherwise.\n",
                "    \"\"\"\n",
                "    # Get the name of the well directory (this will be the expected folder name)\n",
                "    well_name = well_dir.name\n",
                "\n",
                "    # Get the immediate subdirectories in the well directory (e.g., Field_1, Field_2)\n",
                "    sub_dirs = [d for d in well_dir.iterdir() if d.is_dir()]\n",
                "\n",
                "    if not sub_dirs:\n",
                "        return False  # No nested folders found, treat as inconsistent\n",
                "\n",
                "    # Check if each subdirectory contains a nested folder with the same name as the well directory\n",
                "    for sub in sub_dirs:\n",
                "        nested_folders = [d.name for d in sub.iterdir() if d.is_dir()]\n",
                "        if well_name not in nested_folders:\n",
                "            return False  # Inconsistent folder structure found\n",
                "\n",
                "    return True  # All subdirectories have a nested folder with the same name as the well directory\n",
                "\n",
                "\n",
                "def is_image_folder_empty(nested_dir: pathlib.Path) -> bool:\n",
                "    \"\"\"Check if a nested directory contains any images.\n",
                "\n",
                "    Args:\n",
                "        nested_dir (pathlib.Path): Path to a directory nested within the well directory\n",
                "\n",
                "    Returns:\n",
                "        bool: Boolean indicating whether the nested directory contains any images\n",
                "    \"\"\"\n",
                "    return not any(\n",
                "        image.suffix.lower() in image_extensions for image in nested_dir.rglob(\"*\")\n",
                "    )\n",
                "\n",
                "\n",
                "def has_equal_images_per_channel(\n",
                "    nested_dir: pathlib.Path, channel_names: list[str]\n",
                ") -> bool:\n",
                "    \"\"\"Check if all specified channels have the same number of images by looking for the channel name in the filenames.\n",
                "\n",
                "    Args:\n",
                "        nested_dir (pathlib.Path): Path to a directory nested within the well directory.\n",
                "        channel_names (list[str]): List of strings of the channel names found in the nested directory.\n",
                "\n",
                "    Returns:\n",
                "        bool: Boolean indicating whether all specified channels have the same number of images.\n",
                "    \"\"\"\n",
                "    # Initialize counts for each channel\n",
                "    channel_counts = {channel: 0 for channel in channel_names}\n",
                "\n",
                "    # Count images for each channel based on the channel name in the filename\n",
                "    for image in nested_dir.rglob(\"*\"):  # Search for all files recursively\n",
                "        if image.suffix.lower() in image_extensions:  # Ensure it's an image file\n",
                "            for channel in channel_names:\n",
                "                if (\n",
                "                    channel in image.name\n",
                "                ):  # If the channel name is found in the image filename\n",
                "                    channel_counts[channel] += 1\n",
                "\n",
                "    # Get the unique set of image counts (if all counts are equal, there should be only one unique value)\n",
                "    image_counts = set(channel_counts.values())\n",
                "\n",
                "    # If all counts are equal and non-zero, return True; otherwise, return False\n",
                "    return len(image_counts) == 1 and 0 not in image_counts"
            ]
        },
        {
            "cell_type": "markdown",
            "metadata": {},
            "source": [
                "Run this cell through the script"
            ]
        },
        {
            "cell_type": "code",
            "execution_count": 6,
            "metadata": {},
            "outputs": [
                {
                    "name": "stdout",
                    "output_type": "stream",
                    "text": [
                        "Processing SACRO219: /home/lippincm/Desktop/18TB/NF1_Patient_organoids/SARC0219-T2 Cell Painting-selected/SARC0219-T2 Combined Cell Painting images/SARC0219-T2 Combined -> /home/lippincm/Documents/GFF_3D_organoid_profiling_pipeline/data/SARCO219/raw_images\n"
                    ]
                },
                {
                    "name": "stderr",
                    "output_type": "stream",
                    "text": [
                        "                                                            \r"
                    ]
                },
                {
                    "name": "stdout",
                    "output_type": "stream",
                    "text": [
                        "Completed processing SACRO219: /home/lippincm/Desktop/18TB/NF1_Patient_organoids/SARC0219-T2 Cell Painting-selected/SARC0219-T2 Combined Cell Painting images/SARC0219-T2 Combined -> /home/lippincm/Documents/GFF_3D_organoid_profiling_pipeline/data/SARCO219/raw_images\n",
                        "Processing SARCO361: /home/lippincm/Desktop/18TB/NF1_Patient_organoids/SARC0361/SARC0361 Combined -> /home/lippincm/Documents/GFF_3D_organoid_profiling_pipeline/data/SARCO361/raw_images\n"
                    ]
                },
                {
                    "name": "stderr",
                    "output_type": "stream",
                    "text": [
                        "                                                            \r"
                    ]
                },
                {
                    "name": "stdout",
                    "output_type": "stream",
                    "text": [
                        "Completed processing SARCO361: /home/lippincm/Desktop/18TB/NF1_Patient_organoids/SARC0361/SARC0361 Combined -> /home/lippincm/Documents/GFF_3D_organoid_profiling_pipeline/data/SARCO361/raw_images\n"
                    ]
                }
            ],
            "source": [
                "# Function to process a single nested directory\n",
                "\n",
                "\n",
                "def process_nested_dir(nested_dir, dest_well_dir, channel_names, image_extensions):\n",
                "    if not nested_dir.is_dir():\n",
                "        return f\"Skipping {nested_dir}: Not a directory\"\n",
                "\n",
                "    if is_image_folder_empty(nested_dir):\n",
                "        return f\"Skipping {nested_dir}: No images found\"\n",
                "\n",
                "    if not has_equal_images_per_channel(nested_dir, channel_names):\n",
                "        return f\"Skipping {nested_dir}: Unequal images per channel\"\n",
                "\n",
                "    # Copy images to destination, skipping files with 'Tile' in their name\n",
                "    for image in nested_dir.rglob(\"*\"):\n",
                "        if image.suffix.lower() in image_extensions and \"Tile\" not in image.name:\n",
                "            shutil.copy2(image, dest_well_dir)\n",
                "\n",
                "    return f\"Processed {nested_dir}\"\n",
                "\n",
                "\n",
                "# Function to process a single well directory\n",
                "def process_well_dir(well_dir, dest_dir, channel_names, image_extensions):\n",
                "    if not has_consistent_naming(well_dir):\n",
                "        return f\"Skipping {well_dir.stem}: Inconsistent nested folder names within well\"\n",
                "\n",
                "    dest_well_dir = dest_dir / well_dir.name\n",
                "    dest_well_dir.mkdir(parents=True, exist_ok=True)\n",
                "\n",
                "    nested_dirs = list(well_dir.iterdir())\n",
                "    for nested_dir in nested_dirs:\n",
                "        process_nested_dir(\n",
                "            nested_dir,\n",
                "            dest_well_dir,\n",
                "            channel_names,\n",
                "            image_extensions,\n",
                "        )\n",
                "\n",
                "\n",
                "# Set channel names\n",
                "channel_names = {\"405\", \"488\", \"555\", \"640\", \"TRANS\", \"Merge\"}\n",
                "\n",
                "# Loop through each key in the mapping to copy data from the parent to the destination\n",
                "for key, paths in dir_mapping.items():\n",
                "    parent_dir = paths[\"parent\"]\n",
                "    dest_dir = paths[\"destination\"]\n",
                "\n",
                "    print(f\"Processing {key}: {parent_dir} -> {dest_dir}\")\n",
                "\n",
                "    # Ensure the destination directory exists\n",
                "    dest_dir.mkdir(parents=True, exist_ok=True)\n",
                "\n",
                "    # Get all well-level directories\n",
                "    well_dirs = [d for d in parent_dir.iterdir() if d.is_dir()]\n",
                "\n",
                "    if not well_dirs:\n",
                "        print(f\"Skipping {key}: No well directories found\")\n",
                "        continue\n",
                "    # Process well directories in parallel\n",
                "    with ProcessPoolExecutor(max_workers=multiprocessing.cpu_count() - 2) as executor:\n",
                "        futures = [\n",
                "            executor.submit(\n",
                "                process_well_dir, well_dir, dest_dir, channel_names, image_extensions\n",
                "            )\n",
                "            for well_dir in well_dirs\n",
                "        ]\n",
                "        for future in tqdm.tqdm(futures, desc=f\"Processing {key}\", leave=False):\n",
                "            pass\n",
                "\n",
                "    print(f\"Completed processing {key}: {parent_dir} -> {dest_dir}\")"
            ]
        },
        {
            "cell_type": "markdown",
            "metadata": {},
            "source": [
                "## NF0016 specific preprocessing"
            ]
        },
        {
            "cell_type": "code",
            "execution_count": 7,
            "metadata": {},
            "outputs": [],
            "source": [
                "parent_dir_NF0016 = pathlib.Path(\"../../data/NF0016/raw_images\").resolve(strict=True)\n",
                "# get all dirs in the parent dir\n",
                "parent_dir_NF0016 = list(parent_dir_NF0016.glob(\"*/\"))\n",
                "parent_dir_NF0016 = [x for x in parent_dir_NF0016 if x.is_dir()]\n",
                "# get all child files in the parent dir\n",
                "file_dir_NF0016 = []\n",
                "for parent_dir in parent_dir_NF0016:\n",
                "    file_dir_NF0016.extend(list(parent_dir.glob(\"*\")))"
            ]
        },
        {
            "cell_type": "code",
            "execution_count": 8,
            "metadata": {},
            "outputs": [],
            "source": [
                "# rename the files in the parent dir\n",
                "for file in file_dir_NF0016:\n",
                "    new_file_dir = pathlib.Path(\n",
                "        f\"{file.parent}/{str(file.stem).replace(' (60X)', '')}.{file.suffix}\"\n",
                "    )\n",
                "    file.rename(new_file_dir)\n",
                "\n",
                "# rename the parent dir\n",
                "for parent_dir in parent_dir_NF0016:\n",
                "    new_parent_dir = pathlib.Path(\n",
                "        f\"{parent_dir.parent}/{str(parent_dir.stem).replace(' (60X)', '')}\"\n",
                "    )\n",
                "    # rename the parent dir\n",
                "    os.rename(parent_dir, new_parent_dir)"
            ]
        },
        {
            "cell_type": "markdown",
            "metadata": {},
            "source": [
                "## NF0018 specific preprocessing"
            ]
        },
        {
            "cell_type": "code",
            "execution_count": 9,
            "metadata": {},
            "outputs": [],
            "source": [
                "parent_dir_NF0018 = pathlib.Path(\"../../data/NF0018/raw_images\").resolve(strict=True)\n",
                "# get all dirs in the parent dir\n",
                "parent_dir_NF0018 = list(parent_dir_NF0018.glob(\"*/\"))\n",
                "parent_dir_NF0018 = [x for x in parent_dir_NF0018 if x.is_dir()]\n",
                "# get all child files in the parent dir\n",
                "file_dir_NF0018 = []\n",
                "for parent_dir in parent_dir_NF0018:\n",
                "    file_dir_NF0018.extend(list(parent_dir.glob(\"*\")))"
            ]
        },
        {
            "cell_type": "code",
            "execution_count": 10,
            "metadata": {},
            "outputs": [],
            "source": [
                "# rename the files in the parent dir\n",
                "for file in file_dir_NF0018:\n",
                "    new_file_dir = pathlib.Path(\n",
                "        f\"{file.parent}/{str(file.stem).replace(' (60X)', '')}{file.suffix}\"\n",
                "    )\n",
                "    file.rename(new_file_dir)\n",
                "\n",
                "# rename the parent dir\n",
                "for parent_dir in parent_dir_NF0018:\n",
                "    new_parent_dir = pathlib.Path(\n",
                "        f\"{parent_dir.parent}/{str(parent_dir.stem).replace(' (60X)', '')}\"\n",
                "    )\n",
                "    # rename the parent dir\n",
                "    os.rename(parent_dir, new_parent_dir)"
            ]
        }
    ],
    "metadata": {
        "kernelspec": {
            "display_name": "gff_preprocessing_env",
            "language": "python",
            "name": "python3"
        },
        "language_info": {
            "codemirror_mode": {
                "name": "ipython",
                "version": 3
            },
            "file_extension": ".py",
            "mimetype": "text/x-python",
            "name": "python",
            "nbconvert_exporter": "python",
            "pygments_lexer": "ipython3",
            "version": "3.10.15"
        }
    },
    "nbformat": 4,
    "nbformat_minor": 2
}
