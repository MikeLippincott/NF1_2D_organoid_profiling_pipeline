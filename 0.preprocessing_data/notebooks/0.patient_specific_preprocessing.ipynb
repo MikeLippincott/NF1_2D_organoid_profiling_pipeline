{
    "cells": [
        {
            "cell_type": "code",
            "execution_count": null,
            "metadata": {},
            "outputs": [],
            "source": [
                "import argparse\n",
                "import pathlib\n",
                "import sys"
            ]
        },
        {
            "cell_type": "markdown",
            "metadata": {},
            "source": [
                "## Set paths and variables"
            ]
        },
        {
            "cell_type": "code",
            "execution_count": null,
            "metadata": {},
            "outputs": [
                {
                    "name": "stdout",
                    "output_type": "stream",
                    "text": [
                        "HPC: False\n"
                    ]
                }
            ],
            "source": [
                "argparse = argparse.ArgumentParser(description=\"Preprocess raw patient files \")\n",
                "argparse.add_argument(\"--HPC\", action=\"store_true\", help=\"Type of compute to run on\")\n",
                "\n",
                "# Parse arguments\n",
                "args = argparse.parse_args(args=sys.argv[1:] if \"ipykernel\" not in sys.argv[0] else [])\n",
                "HPC = args.HPC\n",
                "\n",
                "print(f\"HPC: {HPC}\")"
            ]
        },
        {
            "cell_type": "code",
            "execution_count": 3,
            "metadata": {},
            "outputs": [],
            "source": [
                "if HPC:\n",
                "    raw_image_dir_hpc = pathlib.Path(\"/pl/active/koala/GFF_Data/GFF-Raw/\").resolve(\n",
                "        strict=True\n",
                "    )\n",
                "else:\n",
                "    # comment out depending on whose computer you are on\n",
                "    # mike's computer\n",
                "    raw_image_dir_local = pathlib.Path(\n",
                "        \"/home/lippincm/Desktop/18TB/NF1_Patient_organoids/\"\n",
                "    ).resolve(strict=True)\n",
                "    # Jenna's computer\n",
                "    # raw_image_dir_local = pathlib.Path(\"/media/18tbdrive/GFF_organoid_data/Cell Painting-NF0014 Thawed3-Pilot Drug Screening\")"
            ]
        },
        {
            "cell_type": "markdown",
            "metadata": {},
            "source": [
                "## NF0014 specific preprocessing"
            ]
        },
        {
            "cell_type": "code",
            "execution_count": 4,
            "metadata": {},
            "outputs": [],
            "source": [
                "# Define parent and destination directories in a single dictionary\n",
                "parent_dir_NF0014_parent = pathlib.Path(\n",
                "    f\"{raw_image_dir_local}/NF0014-Thawed 3 (Raw image files)-Combined/NF0014-Thawed 3 (Raw image files)-Combined copy\"\n",
                "    if not HPC\n",
                "    else f\"{raw_image_dir_hpc}/NF0014-Thawed 3 (Raw image files)-Combined/NF0014-Thawed 3 (Raw image files)-Combined copy\"\n",
                ").resolve(strict=True)\n",
                "# get all dirs in the parent dir\n",
                "parent_dir_NF0014 = list(parent_dir_NF0014_parent.glob(\"*/\"))\n",
                "parent_dir_NF0014 = [x for x in parent_dir_NF0014 if x.is_dir()]"
            ]
        },
        {
            "cell_type": "code",
            "execution_count": 5,
            "metadata": {},
            "outputs": [],
            "source": [
                "for parent_dir in parent_dir_NF0014:\n",
                "    new_parent_dir = pathlib.Path(\n",
                "        f\"{parent_dir.parent}/{str(parent_dir.stem).split(' (')[0]}\"\n",
                "    )\n",
                "    # rename the parent dir\n",
                "    parent_dir.rename(new_parent_dir)"
            ]
        }
    ],
    "metadata": {
        "kernelspec": {
            "display_name": "gff_preprocessing_env",
            "language": "python",
            "name": "python3"
        },
        "language_info": {
            "codemirror_mode": {
                "name": "ipython",
                "version": 3
            },
            "file_extension": ".py",
            "mimetype": "text/x-python",
            "name": "python",
            "nbconvert_exporter": "python",
            "pygments_lexer": "ipython3",
            "version": "3.10.15"
        }
    },
    "nbformat": 4,
    "nbformat_minor": 2
}
