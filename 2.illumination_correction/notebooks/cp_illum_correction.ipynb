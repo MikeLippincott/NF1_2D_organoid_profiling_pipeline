{
    "cells": [
        {
            "cell_type": "markdown",
            "metadata": {},
            "source": [
                "# Perform illumination correction and save the images"
            ]
        },
        {
            "cell_type": "markdown",
            "metadata": {},
            "source": [
                "## Import libraries"
            ]
        },
        {
            "cell_type": "code",
            "execution_count": null,
            "metadata": {},
            "outputs": [],
            "source": [
                "import argparse\n",
                "import pathlib\n",
                "import pprint\n",
                "import sys\n",
                "\n",
                "sys.path.append(\"../../utils\")\n",
                "import cp_parallel\n",
                "\n",
                "# check if in a jupyter notebook\n",
                "try:\n",
                "    cfg = get_ipython().config\n",
                "    in_notebook = True\n",
                "except NameError:\n",
                "    in_notebook = False\n",
                "\n",
                "print(in_notebook)"
            ]
        },
        {
            "cell_type": "code",
            "execution_count": null,
            "metadata": {},
            "outputs": [],
            "source": [
                "if not in_notebook:\n",
                "    # set up arg parser\n",
                "    parser = argparse.ArgumentParser(description=\"Segment the nuclei of a tiff image\")\n",
                "\n",
                "    parser.add_argument(\n",
                "        \"--patient\",\n",
                "        type=str,\n",
                "        help=\"Patient ID to use for the segmentation\",\n",
                "    )\n",
                "\n",
                "    args = parser.parse_args()\n",
                "    patient = args.patient\n",
                "\n",
                "else:\n",
                "    patient = \"NF0014\""
            ]
        },
        {
            "cell_type": "markdown",
            "metadata": {},
            "source": [
                "## Set paths and variables"
            ]
        },
        {
            "cell_type": "code",
            "execution_count": 3,
            "metadata": {},
            "outputs": [
                {
                    "name": "stdout",
                    "output_type": "stream",
                    "text": [
                        "zmax_proj\n"
                    ]
                }
            ],
            "source": [
                "# set the run type for the parallelization\n",
                "run_name = \"illum_correction\"\n",
                "\n",
                "# set path for CellProfiler pipeline\n",
                "path_to_pipeline = pathlib.Path(\"../pipelines/illum.cppipe\").resolve(strict=True)\n",
                "\n",
                "\n",
                "# directory where max-projected images are within the folder\n",
                "images_dir = pathlib.Path(f\"../../data/{patient}/zmax_proj/\").resolve(strict=True)\n",
                "\n",
                "# Get the plate name from the folder name\n",
                "plate_name = images_dir.stem  # Get the folder name as the plate name\n",
                "print(plate_name)"
            ]
        },
        {
            "cell_type": "code",
            "execution_count": 4,
            "metadata": {},
            "outputs": [],
            "source": [
                "# get the number of images in the directory\n",
                "well_fovs = list(images_dir.glob(\"*\"))\n",
                "well_fovs = [x for x in well_fovs if x.is_dir()]\n",
                "well_fovs = [x.stem for x in well_fovs]"
            ]
        },
        {
            "cell_type": "markdown",
            "metadata": {},
            "source": [
                "## Create dictionary to process data"
            ]
        },
        {
            "cell_type": "code",
            "execution_count": 5,
            "metadata": {},
            "outputs": [],
            "source": [
                "plate_info_dictionary = {}\n",
                "for well_fov in well_fovs:\n",
                "    # set the output directory for the well\n",
                "    plate_info_dictionary[f\"zmax_proj_{well_fov}\"] = {\n",
                "        \"path_to_images\": pathlib.Path(\n",
                "            f\"../../data/{patient}/zmax_proj/{well_fov}\"\n",
                "        ).resolve(),\n",
                "        \"path_to_output\": pathlib.Path(\n",
                "            f\"../../data/{patient}/zmax_proj_illum_correction/{well_fov}\"\n",
                "        ).resolve(),\n",
                "        \"path_to_pipeline\": path_to_pipeline,\n",
                "    }\n",
                "    plate_info_dictionary[f\"middle_slice{well_fov}\"] = {\n",
                "        \"path_to_images\": pathlib.Path(\n",
                "            f\"../../data/{patient}/middle_slice/{well_fov}\"\n",
                "        ).resolve(),\n",
                "        \"path_to_output\": pathlib.Path(\n",
                "            f\"../../data/{patient}/middle_slice_illum_correction/{well_fov}\"\n",
                "        ).resolve(),\n",
                "        \"path_to_pipeline\": path_to_pipeline,\n",
                "    }"
            ]
        },
        {
            "cell_type": "markdown",
            "metadata": {},
            "source": [
                "## Perform illumination correction on data\n",
                "\n",
                "The function being called is called \"run_cellprofiler_parallel\" but can be used if there is only one plate to run. We can also split the data by well and process that way in parallel, but we choose to process at all at once for now.\n",
                "\n",
                "Note: This code cell was not ran as we prefer to perform CellProfiler processing tasks via `sh` file (bash script) which is more stable."
            ]
        },
        {
            "cell_type": "code",
            "execution_count": 6,
            "metadata": {},
            "outputs": [
                {
                    "name": "stdout",
                    "output_type": "stream",
                    "text": [
                        "All processes have been completed!\n",
                        "All results have been converted to log files!\n"
                    ]
                }
            ],
            "source": [
                "cp_parallel.run_cellprofiler_parallel(\n",
                "    plate_info_dictionary=plate_info_dictionary, run_name=run_name\n",
                ")"
            ]
        }
    ],
    "metadata": {
        "kernelspec": {
            "display_name": "cellprofiler_timelapse_env",
            "language": "python",
            "name": "python3"
        },
        "language_info": {
            "codemirror_mode": {
                "name": "ipython",
                "version": 3
            },
            "file_extension": ".py",
            "mimetype": "text/x-python",
            "name": "python",
            "nbconvert_exporter": "python",
            "pygments_lexer": "ipython3",
            "version": "3.8.20"
        },
        "orig_nbformat": 4
    },
    "nbformat": 4,
    "nbformat_minor": 2
}
